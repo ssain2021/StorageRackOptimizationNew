{
 "cells": [
  {
   "cell_type": "code",
   "execution_count": 2,
   "metadata": {},
   "outputs": [],
   "source": [
    "################################  Storage_Optimization.ipynb  ####################################\n",
    "# Author: Sukhendu Sain\n",
    "# Description: Main file of codebase. Houses main code\n",
    "# Data: 23-Nov-2024\n",
    "#################################################################################"
   ]
  },
  {
   "cell_type": "code",
   "execution_count": 3,
   "metadata": {},
   "outputs": [],
   "source": [
    "# Import Necessary Libraries, Utils, and Config Files\n",
    "import utils\n",
    "from config import *\n",
    "import pandas as pd\n",
    "import numpy as np\n",
    "import os, re\n",
    "import matplotlib.pyplot as plt\n",
    "# import importlib\n",
    "# importlib.reload(utils)"
   ]
  },
  {
   "cell_type": "markdown",
   "metadata": {},
   "source": [
    "### Config - Parameters/Other Variables/File Paths"
   ]
  },
  {
   "cell_type": "code",
   "execution_count": 4,
   "metadata": {},
   "outputs": [],
   "source": [
    "## Files Path ##\n",
    "ROOT_FILE_PATH = '\\\\'.join(os.getcwd().split('\\\\')[:-1])\n",
    "\n",
    "AKINS_FOMO_FILE_PATH = os.path.join(ROOT_FILE_PATH, r\"Data&Files\\AKINS FoMoCo_Piece_Sales_112222_YTD.xlsx\")\n",
    "GPARTS_FILE_PATH = os.path.join(ROOT_FILE_PATH, r\"Data&Files\\GPARTS Part Measures.xlsx\")\n",
    "WHOLESALE_FILE_PATH = os.path.join(ROOT_FILE_PATH, r\"Data&Files\\Wholesale JAN_Oct_Parts_Ranking_Counter_Invoices_All_Brands.xlsx\")\n",
    "SERVICE_FILE_PATH = os.path.join(ROOT_FILE_PATH, r\"Data&Files\\Service JAN_Oct_Parts_Ranking_ROs_All_Brands.xlsx\")\n",
    "COUNTERPAD_FILE_PATH = os.path.join(ROOT_FILE_PATH, r\"Data&Files\\Counter_Pad_11142024.xlsx\")\n",
    "\n",
    "\n",
    "\n",
    "## Variables\n",
    "print_df_after_import = True\n",
    "print_df_data_analyse = True"
   ]
  },
  {
   "cell_type": "markdown",
   "metadata": {},
   "source": [
    "# Data Import and Clean"
   ]
  },
  {
   "cell_type": "code",
   "execution_count": null,
   "metadata": {},
   "outputs": [],
   "source": [
    "#### Read FILE:: (AKINS FoMoCo_Piece_Sales_112222_YTD.xlsx) into Dataframe\n",
    "df_Akins = utils.read_excel(AKINS_FOMO_FILE_PATH)\n",
    "df_Akins['Part#'] = df_Akins['Part#'].apply(lambda a: \"\".join(str(a).split('-')))\n",
    "if print_df_after_import: utils.print_df(df_Akins, 200) # Print the Dataframe\n",
    "# ~1-2secs"
   ]
  },
  {
   "cell_type": "code",
   "execution_count": null,
   "metadata": {},
   "outputs": [],
   "source": [
    "#### Read FILE:: (GPARTS Part Measures.xlsx) into Dataframe\n",
    "df_Gparts = utils.read_excel(GPARTS_FILE_PATH)\n",
    "if print_df_after_import: utils.print_df(df_Gparts) # Print the Dataframe\n",
    "# ~50-60secs"
   ]
  },
  {
   "cell_type": "code",
   "execution_count": null,
   "metadata": {},
   "outputs": [],
   "source": [
    "#### Read FILE:: (Wholesale JAN_Oct_Parts_Ranking_Counter_Invoices_All_Brands.xlsx) into Dataframe\n",
    "df_Wholesale = utils.read_excel(WHOLESALE_FILE_PATH)\n",
    "\n",
    "# Clean the Wholesale Dataframe\n",
    "df_Wholesale['Description'] = df_Wholesale['Description'].astype(str)\n",
    "df_Wholesale = df_Wholesale.drop(columns=[col for col in df_Wholesale.columns if 'Unnamed' in col], inplace=False)\n",
    "df_Wholesale = df_Wholesale[(df_Wholesale['Vendor'] == 'FOR') | (df_Wholesale['Vendor'] == 'CHR')].reset_index()\n",
    "df_Wholesale.loc[df_Wholesale['Description'].apply(lambda x: len(x.split(\"      \")) > 1), 'Avg. Cost'] = df_Wholesale['Description'].apply(lambda x: [i for i in x.strip().split(\"      \")][-1])\n",
    "df_Wholesale.loc[df_Wholesale['Description'].apply(lambda x: len(x.split(\"      \")) > 1), 'Description'] = df_Wholesale['Description'].apply(lambda x: \"     \".join([i for i in x.strip().split(\"      \")][:-1]))\n",
    "\n",
    "if print_df_after_import: utils.print_df(df_Wholesale) # Print the Dataframe\n",
    "# ~12-15secs"
   ]
  },
  {
   "cell_type": "code",
   "execution_count": null,
   "metadata": {},
   "outputs": [],
   "source": [
    "#### Read FILE:: (Service JAN_Oct_Parts_Ranking_ROs_All_Brands.xlsx) into Dataframe\n",
    "df_Service = utils.read_excel(SERVICE_FILE_PATH)\n",
    "\n",
    "# Clean the Service Dataframe\n",
    "df_Service = df_Service.drop(columns=[col for col in df_Service.columns if 'Unnamed' in col], inplace=False)\n",
    "df_Service = df_Service[(df_Service['Vendor'] == 'FOR') | (df_Service['Vendor'] == 'CHR')].reset_index()\n",
    "\n",
    "if print_df_after_import: utils.print_df(df_Service, 100) # Print the Dataframe\n",
    "# ~5-6secs"
   ]
  },
  {
   "cell_type": "code",
   "execution_count": 9,
   "metadata": {},
   "outputs": [],
   "source": [
    "#### Read FILE:: (Counter Pad) into Dataframe"
   ]
  },
  {
   "cell_type": "code",
   "execution_count": null,
   "metadata": {},
   "outputs": [],
   "source": []
  },
  {
   "cell_type": "markdown",
   "metadata": {},
   "source": [
    "# Data Processing & Calculation"
   ]
  },
  {
   "cell_type": "code",
   "execution_count": null,
   "metadata": {},
   "outputs": [],
   "source": [
    "## Make a Big Final Dataframe\n",
    "# It will have the Columns - 'Part Number', 'Part Type', 'Active', 'Sold (Pcs.)', 'Length/Depth', 'Width', 'Height', 'Zone', 'Storage Type', 'Sub Storage', 'Number of Storage needed'\n",
    "# It will have all the rows with common part nos. from all 4 Files, having Appropriate Sold Pcs. Values, and Dimensions\n",
    "\n",
    "main_list = []\n",
    "\n",
    "gParts_PartNos = set(df_Gparts['Svc Part Number'])\n",
    "\n",
    "# common_part_numbers = gParts_PartNos & set(df_Akins['Part#'])\n",
    "# for pn, pt, ac, s, ld, w, h in zip(common_part_numbers, df_Gparts[\"Svc Part Number Description\"], df_Gparts['Is Active?'], df_Akins['Sold Pcs '], df_Gparts['Prod Att - Length'], df_Gparts['Prod Att- Width'], df_Gparts['Prod Att - Height']):\n",
    "#     main_list.append([pn, pt, ac, s, ld, w, h, \"\", \"\", \"\", \"\"])\n",
    "\n",
    "common_part_numbers = gParts_PartNos & set(df_Wholesale['Part Number'])\n",
    "for pn, pt, ac, s, ld, w, h in zip(common_part_numbers, df_Gparts[\"Svc Part Number Description\"], df_Gparts['Is Active?'], df_Wholesale['Sold'], df_Gparts['Prod Att - Length'], df_Gparts['Prod Att- Width'], df_Gparts['Prod Att - Height']):\n",
    "    main_list.append([pn, pt, ac, s, ld, w, h, \"\", \"\", \"\", \"\"])\n",
    "\n",
    "\n",
    "common_part_numbers = gParts_PartNos & set(df_Service['* indicates a superseded part\\nPart Number'])\n",
    "for pn, pt, ac, s, ld, w, h in zip(common_part_numbers, df_Gparts[\"Svc Part Number Description\"], df_Gparts['Is Active?'], df_Service['Qty Sold'], df_Gparts['Prod Att - Length'], df_Gparts['Prod Att- Width'], df_Gparts['Prod Att - Height']):\n",
    "    main_list.append([pn, pt, ac, s, ld, w, h, \"\", \"\", \"\", \"\"])\n",
    "\n",
    "df_Main = pd.DataFrame(main_list)\n",
    "df_Main.columns = ['Part#', 'Part Type', 'Active', 'Sold', 'Depth', 'Width', 'Height', 'Zone', 'StorageType', 'SubStorage', 'Num. Storage Required']\n",
    "df_Main = df_Main.sort_values('Sold', ascending=False)\n",
    "utils.print_df(df_Main)"
   ]
  },
  {
   "cell_type": "code",
   "execution_count": null,
   "metadata": {},
   "outputs": [],
   "source": [
    "data = []\n",
    "ssum = 0\n",
    "totalSoldPCs = int(df_Wholesale[\"Sold\"].sum())\n",
    "print(ssum, totalSoldPCs)\n",
    "for i in range(df_Wholesale.shape[0]):\n",
    "    zone = \"\"\n",
    "    if ssum/totalSoldPCs <= 0.2:\n",
    "        zone = \"Red Hot Zone\"\n",
    "    if ssum/totalSoldPCs > 0.2 and ssum/totalSoldPCs <= 0.4:\n",
    "        zone = \"Orange Zone\"\n",
    "    if ssum/totalSoldPCs > 0.4 and ssum/totalSoldPCs <= 0.6:\n",
    "        zone = \"Yellow Zone\"\n",
    "    if ssum/totalSoldPCs > 0.6 and ssum/totalSoldPCs <= 0.8:\n",
    "        zone = \"Green Zone\"\n",
    "    if ssum/totalSoldPCs > 0.8:\n",
    "        zone = \"Blue Zone\"\n",
    "    data.append([df_Wholesale[\"Part Number\"].iloc[i], zone, df_Wholesale[\"Sold\"].iloc[i]])\n",
    "    ssum = ssum + df_Wholesale[\"Sold\"].iloc[i]\n",
    "df_zones = pd.DataFrame(data)\n",
    "utils.print_df(df_zones,None)\n",
    "\n",
    "with open(\"htt.txt\", \"w\") as f:\n",
    "    f.write(df_zones.to_string())"
   ]
  },
  {
   "cell_type": "code",
   "execution_count": null,
   "metadata": {},
   "outputs": [],
   "source": [
    "data = []\n",
    "sum_list = []\n",
    "ssum = 0\n",
    "thres = 0.2 * df_Main[\"Sold\"].sum()\n",
    "totalSoldPCs = int(df_Main[\"Sold\"].sum())\n",
    "print(thres, totalSoldPCs)\n",
    "zones = ['RH', 'OR', 'YE', 'GR', 'BL']\n",
    "zi = 0\n",
    "for i in range(df_Main.shape[0]):\n",
    "    if ssum > thres:     \n",
    "        for i1 in  range(i):\n",
    "            data.append([df_Main['Part#'].iloc[i1], zones[zi], df_Main[\"Sold\"].iloc[i1]])\n",
    "        zi = zi + 1\n",
    "        ssum = 0\n",
    "    else:\n",
    "        ssum = ssum + df_Main[\"Sold\"].iloc[i]\n",
    "        sum_list.append(ssum)\n",
    "        \n",
    "df_zones = pd.DataFrame(data)\n",
    "print(df_zones.shape[0])\n",
    "utils.print_df(df_zones)\n",
    "\n",
    "with open(\"htt.txt\", \"w\") as f:\n",
    "    f.write(df_zones.to_string())"
   ]
  },
  {
   "cell_type": "code",
   "execution_count": null,
   "metadata": {},
   "outputs": [],
   "source": [
    "df_Main"
   ]
  },
  {
   "cell_type": "code",
   "execution_count": null,
   "metadata": {},
   "outputs": [],
   "source": [
    "data = []\n",
    "sum_list = []\n",
    "ssum = 0\n",
    "thres = 0.2 * df_Wholesale[\"Sold\"].sum()\n",
    "totalSoldPCs = int(df_Wholesale[\"Sold\"].sum())\n",
    "print(thres, totalSoldPCs)\n",
    "zones = ['RH', 'OR', 'YE', 'GR', 'BL']\n",
    "zi = 0\n",
    "for i in range(df_Wholesale.shape[0]):\n",
    "    if ssum > thres:     \n",
    "        for i1 in  range(i):\n",
    "            data.append([df_Wholesale['Part Number'].iloc[i1], zones[zi], df_Wholesale[\"Sold\"].iloc[i1]])\n",
    "        zi = zi + 1\n",
    "        ssum = 0\n",
    "    else:\n",
    "        ssum = ssum + df_Wholesale[\"Sold\"].iloc[i]\n",
    "        sum_list.append(ssum)\n",
    "        \n",
    "df_zones = pd.DataFrame(data)\n",
    "utils.print_df(df_zones)\n",
    "\n",
    "with open(\"htt.txt\", \"w\") as f:\n",
    "    f.write(df_zones.to_string())\n",
    "sum_list[1001:]"
   ]
  },
  {
   "cell_type": "code",
   "execution_count": null,
   "metadata": {},
   "outputs": [],
   "source": [
    "df_Main.groupby('Zone').count()"
   ]
  },
  {
   "cell_type": "code",
   "execution_count": null,
   "metadata": {},
   "outputs": [],
   "source": [
    "df_zones.groupby(1)[2].sum(), df_zones.groupby(1).count()"
   ]
  },
  {
   "cell_type": "code",
   "execution_count": null,
   "metadata": {},
   "outputs": [],
   "source": [
    "## Visualize above No Dimensions Data\n",
    "\n",
    "# Create the bar graph\n",
    "plt.figure(figsize=(10, 6)) \n",
    "bars = ['Red Hot', 'Orange', 'Yellow']\n",
    "heights = [7, 105, 704]\n",
    "\n",
    "plt.bar(bars, heights, width=0.4)\n",
    "plt.title(f'Num of Parts per Zone (Wholesale+GParts)', fontsize=20)\n",
    "plt.ylabel('Num of Parts')\n",
    "plt.xticks(rotation=45, fontsize=16)\n",
    "\n",
    "# Add labels to each bar\n",
    "for i, v in enumerate(heights):\n",
    "    plt.text(i, v, str(round(v, 2)), ha='center', va='bottom')\n",
    "\n",
    "# Show the legend and display the chart\n",
    "plt.tight_layout()\n",
    "plt.show()"
   ]
  },
  {
   "cell_type": "code",
   "execution_count": null,
   "metadata": {},
   "outputs": [],
   "source": [
    "## Visualize above No Dimensions Data\n",
    "\n",
    "# Create the bar graph\n",
    "plt.figure(figsize=(10, 6)) \n",
    "bars = ['Red Hot', 'Orange', 'Yellow']\n",
    "heights = [57, 398, 1786]\n",
    "\n",
    "plt.bar(bars, heights, width=0.4)\n",
    "plt.title(f'Num of Parts per Zone (Wholesale)', fontsize=20)\n",
    "plt.ylabel('Num of Parts')\n",
    "plt.xticks(rotation=45, fontsize=16)\n",
    "\n",
    "# Add labels to each bar\n",
    "for i, v in enumerate(heights):\n",
    "    plt.text(i, v, str(round(v, 2)), ha='center', va='bottom')\n",
    "\n",
    "# Show the legend and display the chart\n",
    "plt.tight_layout()\n",
    "plt.show()"
   ]
  },
  {
   "cell_type": "code",
   "execution_count": null,
   "metadata": {},
   "outputs": [],
   "source": [
    "df_Main.iloc[:7]['Sold'].sum()"
   ]
  },
  {
   "cell_type": "code",
   "execution_count": 97,
   "metadata": {},
   "outputs": [],
   "source": [
    "df_Main[df_Main['Part#'].isin(df_zones[df_zones[1] == 'RH'][0])].iloc[:, :7]\n",
    "df_Main[df_Main['Part#'].isin(df_zones[df_zones[1] == 'RH'][0])].iloc[:, :7].to_excel('DetailsofWholesaleRHParta.xlsx', index=False)"
   ]
  },
  {
   "cell_type": "code",
   "execution_count": 99,
   "metadata": {},
   "outputs": [],
   "source": [
    "df_Main.iloc[:7, :].to_excel('DetailsofWholesaleRHParta.xlsx', index=False)"
   ]
  }
 ],
 "metadata": {
  "kernelspec": {
   "display_name": "Python 3",
   "language": "python",
   "name": "python3"
  },
  "language_info": {
   "codemirror_mode": {
    "name": "ipython",
    "version": 3
   },
   "file_extension": ".py",
   "mimetype": "text/x-python",
   "name": "python",
   "nbconvert_exporter": "python",
   "pygments_lexer": "ipython3",
   "version": "3.12.7"
  }
 },
 "nbformat": 4,
 "nbformat_minor": 2
}
