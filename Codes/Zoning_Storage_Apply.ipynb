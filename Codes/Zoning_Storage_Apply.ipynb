{
 "cells": [
  {
   "cell_type": "code",
   "execution_count": 1,
   "metadata": {},
   "outputs": [],
   "source": [
    "# Normal Comment\n",
    "# ! Very Important Errors or things which must be fixed or be in attention immediately\n",
    "# TODO: Things remaining to do\n",
    "# ? Questions\n",
    "# * Some Messages or Notes\n",
    "# ^ Important Notes, Messages or things which may need attention in future\n",
    "# & Important Commented out Code\n",
    "# ~ Purple"
   ]
  },
  {
   "cell_type": "code",
   "execution_count": 2,
   "metadata": {},
   "outputs": [],
   "source": [
    "\n",
    "#^###############################  Storage_Optimization.ipynb  ####################################\n",
    "# ^ Author: Sukhendu Sain\n",
    "# ^ Description: Main file of codebase. Houses main code\n",
    "# ^ Data: 23-Nov-2024\n",
    "#^################################################################################"
   ]
  },
  {
   "cell_type": "code",
   "execution_count": 3,
   "metadata": {},
   "outputs": [],
   "source": [
    "# Import Necessary Libraries, Utils, and Config Files\n",
    "import utils\n",
    "from config import *\n",
    "import pandas as pd\n",
    "import numpy as np\n",
    "import math"
   ]
  },
  {
   "cell_type": "markdown",
   "metadata": {},
   "source": [
    "# Data Import and Clean"
   ]
  },
  {
   "cell_type": "code",
   "execution_count": 4,
   "metadata": {},
   "outputs": [],
   "source": [
    "#### Read FILE:: (AKINS FoMoCo_Piece_Sales_112222_YTD.xlsx) into Dataframe\n",
    "# df_Akins = utils.read_excel(AKINS_FOMO_FILE_PATH)\n",
    "# df_Akins['Part#'] = df_Akins['Part#'].apply(lambda a: \"\".join(str(a).split('-')))\n",
    "# if print_df_after_import: utils.print_df(df_Akins, 200) # Print the Dataframe\n",
    "# ~1-2secs"
   ]
  },
  {
   "cell_type": "code",
   "execution_count": 5,
   "metadata": {},
   "outputs": [],
   "source": [
    "#### Read FILE:: (GPARTS Part Measures.xlsx) into Dataframe\n",
    "df_Gparts = utils.read_excel(GPARTS_FILE_PATH)\n",
    "if print_df_after_import: utils.print_df(df_Gparts) # Print the Dataframe\n",
    "# ~50-60secs"
   ]
  },
  {
   "cell_type": "code",
   "execution_count": 6,
   "metadata": {},
   "outputs": [],
   "source": [
    "#### Read FILE:: (Wholesale JAN_Oct_Parts_Ranking_Counter_Invoices_All_Brands.xlsx) into Dataframe\n",
    "df_Wholesale = utils.read_excel(WHOLESALE_FILE_PATH)\n",
    "\n",
    "# Clean the Wholesale Dataframe\n",
    "df_Wholesale['Description'] = df_Wholesale['Description'].astype(str)\n",
    "df_Wholesale = df_Wholesale.drop(columns=[col for col in df_Wholesale.columns if 'Unnamed' in col], inplace=False)\n",
    "df_Wholesale = df_Wholesale[(df_Wholesale['Vendor'] == 'FOR')].reset_index()\n",
    "df_Wholesale.loc[df_Wholesale['Description'].apply(lambda x: len(x.split(\"      \")) > 1), 'Avg. Cost'] = df_Wholesale['Description'].apply(lambda x: [i for i in x.strip().split(\"      \")][-1])\n",
    "df_Wholesale.loc[df_Wholesale['Description'].apply(lambda x: len(x.split(\"      \")) > 1), 'Description'] = df_Wholesale['Description'].apply(lambda x: \"     \".join([i for i in x.strip().split(\"      \")][:-1]))\n",
    "\n",
    "if print_df_after_import: utils.print_df(df_Wholesale) # Print the Dataframe\n",
    "# ~12-15secs"
   ]
  },
  {
   "cell_type": "code",
   "execution_count": 7,
   "metadata": {},
   "outputs": [],
   "source": [
    "#### Read FILE:: (Service JAN_Oct_Parts_Ranking_ROs_All_Brands.xlsx) into Dataframe\n",
    "df_Service = utils.read_excel(SERVICE_FILE_PATH)\n",
    "\n",
    "# Clean the Service Dataframe\n",
    "df_Service['Description'] = df_Service['Description'].astype(str)\n",
    "df_Service = df_Service.drop(columns=[col for col in df_Service.columns if 'Unnamed' in col], inplace=False)\n",
    "df_Service = df_Service[(df_Service['Vendor'] == 'FOR')].reset_index()\n",
    "df_Service.loc[df_Service['Description'].apply(lambda x: len(x.split(\"      \")) > 1), 'Avg. Cost'] = df_Service['Description'].apply(lambda x: [i for i in x.strip().split(\"      \")][-1])\n",
    "df_Service.loc[df_Service['Description'].apply(lambda x: len(x.split(\"      \")) > 1), 'Description'] = df_Service['Description'].apply(lambda x: \"     \".join([i for i in x.strip().split(\"      \")][:-1]))\n",
    "df_Service.loc[df_Service['Qty Sold'].apply(lambda x: len(str(x).split(\"      \")) > 1), 'Dollars Sold'] = df_Service['Qty Sold'].apply(lambda x: [i for i in str(x).strip().split(\"      \")][-1])\n",
    "df_Service.loc[df_Service['Qty Sold'].apply(lambda x: len(str(x).split(\"      \")) > 1), 'Qty Sold'] = df_Service['Qty Sold'].apply(lambda x: \"     \".join([i for i in str(x).strip().split(\"      \")][:-1]))\n",
    "\n",
    "if print_df_after_import: utils.print_df(df_Service, 100) # Print the Dataframe\n",
    "# ~5-6secs"
   ]
  },
  {
   "cell_type": "code",
   "execution_count": 8,
   "metadata": {},
   "outputs": [],
   "source": [
    "#### Read FILE:: (Counter Pad) into Dataframe"
   ]
  },
  {
   "cell_type": "code",
   "execution_count": null,
   "metadata": {},
   "outputs": [],
   "source": []
  },
  {
   "cell_type": "markdown",
   "metadata": {},
   "source": [
    "# Data Processing & Calculation"
   ]
  },
  {
   "cell_type": "markdown",
   "metadata": {},
   "source": [
    "### Make a Big Final Dataframe"
   ]
  },
  {
   "cell_type": "code",
   "execution_count": 9,
   "metadata": {},
   "outputs": [],
   "source": [
    "\n",
    "# * It will have the Columns - 'Part Number', 'Part Desc.', 'Active', 'Sold (Pcs.)', '0Dimensions', 'Length/Depth', 'Width', 'Height', 'Zone', 'Storage Type', 'Sub Storage', 'Number of Storage needed'\n",
    "# It will have all the rows with common part nos. from 3 Files, having Appropriate Sold Pcs. Values, and Dimensions\n",
    "\n",
    "main_list = [] # Initialize the New List, which will hold all rows before turning into DF\n",
    "gParts_PartNos = set(df_Gparts['Svc Part Number']) # Get a Set of all Part Nos. of GParts\n",
    "\n",
    "\n",
    "# Wholesale\n",
    "common_part_numbers = gParts_PartNos & set(df_Wholesale['Part Number'])\n",
    "df_PreMerge = df_Gparts.loc[df_Gparts['Svc Part Number'].isin(common_part_numbers), ['Svc Part Number', 'Svc Part Number Description', 'Is Active?', 'Prod Att - Length', 'Prod Att- Width', 'Prod Att - Height']]\n",
    "for pn, pddesc, ac, dp, wd, ht in zip(df_PreMerge['Svc Part Number'], df_PreMerge['Svc Part Number Description'], df_PreMerge['Is Active?'], df_PreMerge['Prod Att - Length'], df_PreMerge['Prod Att- Width'], df_PreMerge['Prod Att - Height']):\n",
    "    main_list.append([pn, pddesc, \"\", \"Wholesale\", ac, df_Wholesale[df_Wholesale['Part Number'] == pn]['Sold'].values[0], 0, 0, False, dp, wd, ht, \"\", \"\", \"\", \"\", 0, \"\", 0, \"\"])\n",
    "\n",
    "\n",
    "# Service\n",
    "common_part_numbers = gParts_PartNos & set(df_Service['* indicates a superseded part\\nPart Number'])\n",
    "df_PreMerge = df_Gparts.loc[df_Gparts['Svc Part Number'].isin(common_part_numbers), ['Svc Part Number', 'Svc Part Number Description', 'Is Active?', 'Prod Att - Length', 'Prod Att- Width', 'Prod Att - Height']]\n",
    "for pn, pddesc, ac, dp, wd, ht in zip(df_PreMerge['Svc Part Number'], df_PreMerge['Svc Part Number Description'], df_PreMerge['Is Active?'], df_PreMerge['Prod Att - Length'], df_PreMerge['Prod Att- Width'], df_PreMerge['Prod Att - Height']):\n",
    "    main_list.append([pn, pddesc, \"\", \"Service\", ac, 0, df_Service[df_Service['* indicates a superseded part\\nPart Number'] == pn]['Qty Sold'].values[0], 0, False, dp, wd, ht, \"\", \"\", \"\", \"\", 0, \"\", 0, \"\"])\n",
    "\n",
    "\n",
    "# Create the Main Dataframe\n",
    "df_Main = pd.DataFrame(main_list)\n",
    "df_Main.columns = ['Part#', 'Part Desc.', 'Part Category', 'DataSource', 'Active', 'Wholesale Sold', 'Service Sold', \"Total Sold\", '0Dimensions', 'Depth', 'Width', 'Height', 'Zone', 'StorageType', 'SubStorage', 'Bin Type', 'OH Inventory', 'Num. Bin Required', \"SKU Count\", \"Bin Location\"]\n",
    "\n",
    "# Merge the Parts present in both Service and Wholesale (Duplicates)\n",
    "gbParts = df_Main.groupby('Part#').count()[df_Main.groupby('Part#').count()['Part Desc.'] == 2].index.to_list()\n",
    "for pn in gbParts:\n",
    "    df_Main.loc[(df_Main['Part#'] == pn) & (df_Main['DataSource'] == \"Wholesale\"), \"Service Sold\"] = df_Main.loc[(df_Main['Part#'] == pn) & (df_Main['DataSource'] == \"Service\"), \"Service Sold\"].values[0]\n",
    "    df_Main = df_Main[(df_Main['Part#'] != pn) | (df_Main['DataSource'] == \"Wholesale\")]\n",
    "# Set 0Dimensions\n",
    "df_Main.loc[(df_Main[\"Depth\"] == 0) | (df_Main[\"Height\"] == 0) | (df_Main[\"Width\"] == 0), \"0Dimensions\"] = True\n",
    "# Drop 0Dimensions Rows if drop0Dims\n",
    "if drop0Dims: df_Main = df_Main[df_Main[\"0Dimensions\"] == False]\n",
    "# Set Total_Sold\n",
    "df_Main[\"Total Sold\"] = df_Main[\"Wholesale Sold\"].astype(int) + df_Main[\"Service Sold\"].astype(int)\n",
    "# Sort by 'Total Sold'\n",
    "df_Main = df_Main.sort_values('Total Sold', ascending=False)\n",
    "# ^ Add Random Values for OH Inventory temporarily\n",
    "df_Main[\"OH Inventory\"] = np.random.choice(np.arange(20), size=len(df_Main), replace=True)\n",
    "\n",
    "# ^ Add Random Values for SKU Count temporarily\n",
    "df_Main[\"SKU Count\"] = np.random.choice(np.arange(20), size=len(df_Main), replace=True)\n",
    "\n",
    "# Reset Index\n",
    "df_Main = df_Main.reset_index(drop=True)"
   ]
  },
  {
   "cell_type": "code",
   "execution_count": null,
   "metadata": {},
   "outputs": [],
   "source": [
    "df_test = df_Main[((df_Main[\"Depth\"] >= 24) & ((df_Main[\"Width\"] <= 4) | (df_Main[\"Height\"] <= 4))) | (((df_Main[\"Depth\"] <= 4) | (df_Main[\"Width\"] <= 4)) & (df_Main[\"Height\"] >= 24)) | (((df_Main[\"Depth\"] <= 4) | (df_Main[\"Height\"] <= 4)) & (df_Main[\"Width\"] >= 24))]\n",
    "utils.print_df(df_test)"
   ]
  },
  {
   "cell_type": "code",
   "execution_count": null,
   "metadata": {},
   "outputs": [],
   "source": [
    "\n",
    "# * TESTING SECTION ---- Change some data Manually\n",
    "df_Main.loc[df_Main[\"Part#\"] == '6F2Z1A189A', [\"Part Desc.\",\"0Dimensions\", \"Depth\", \"Height\", \"Width\", \"OH Inventory\"]] = [\"6F2Z1A189A-TIRE\",False, 28,28,3,100]\n",
    "df_Main.loc[df_Main[\"Part#\"] == '7L1Z1A189A', [\"Part Desc.\",\"0Dimensions\", \"Depth\", \"Height\", \"Width\", \"OH Inventory\"]] = [\"7L1Z1A189A-TIRE\",False, 34,34,3.5,50]\n",
    "df_Main.loc[df_Main[\"Part#\"] == '9OO1183106436', [\"0Dimensions\", \"Depth\", \"Height\", \"Width\", \"OH Inventory\"]] = [False, 30,30,3,1000]\n",
    "df_Main.loc[df_Main[\"Part#\"] == '9OO439510', [\"0Dimensions\", \"Depth\", \"Height\", \"Width\", \"OH Inventory\"]] = [False, 45,45,4.5,500]\n",
    "df_Main.loc[df_Main[\"Part#\"] == '9OO1732002500', [\"0Dimensions\", \"Depth\", \"Height\", \"Width\", \"OH Inventory\"]] = [False, 50,50,5,250]\n",
    "df_Main.loc[df_Main[\"Part#\"] == '9OO3004901', [\"0Dimensions\", \"Depth\", \"Height\", \"Width\", \"OH Inventory\"]] = [False, 40,40,4,25]\n",
    "df_Main[['TIRE' in s for s in df_Main[\"Part Desc.\"]]]"
   ]
  },
  {
   "cell_type": "code",
   "execution_count": null,
   "metadata": {},
   "outputs": [],
   "source": [
    "utils.print_df(df_Main)"
   ]
  },
  {
   "cell_type": "code",
   "execution_count": 13,
   "metadata": {},
   "outputs": [],
   "source": [
    "\n",
    "###  ^ PART CATEGORIZATION. TO DO.  BUT Client Will Share Actual Part Category\n",
    "def part_categorization(df_toBeCategorized, categoryColName):\n",
    "    # TODO: Add more categories\n",
    "    for i in range(df_toBeCategorized.shape[0]):\n",
    "        desc = \"-\".join(df_toBeCategorized.loc[i, \"Part Desc.\"].split(\"-\")[1:])\n",
    "        category = \"\"\n",
    "        if \"battery\" in desc.lower():\n",
    "            if desc.strip().lower() == \"battery\":\n",
    "                category = \"Battery\"\n",
    "            else:\n",
    "                category = \"Battery Accessory\"\n",
    "        elif \"tire\" in desc.lower():\n",
    "            if desc.strip().lower() == \"tire\":\n",
    "                category = \"Tire\"\n",
    "            else:\n",
    "                category = \"Tire Accessory\"            \n",
    "        elif \"hood\" in desc.lower():\n",
    "            if (desc.strip().lower() == \"hood asy\") | (desc.strip().lower() == \"hood  asy\"):\n",
    "                category = \"Hood\"\n",
    "            else:\n",
    "                category = \"Hood Accessory\"\n",
    "                \n",
    "        elif desc.strip().lower() == \"cover\":\n",
    "            category = \"Bumper Cover\"\n",
    "        elif desc.strip().lower() == \"seal\":\n",
    "            category = \"Seal\"\n",
    "        elif desc.strip().lower() == \"name plate\":\n",
    "            category = \"Name Plate\"\n",
    "        elif desc.strip().lower() == \"v-belt\":\n",
    "            category = \"V-Belt\"\n",
    "        elif desc.strip().lower() == \"v-belt\":\n",
    "            category = \"V-Belt\"\n",
    "       \n",
    "        elif (\"blade\" in desc.lower()) & (\"wiper\" in desc.lower()):\n",
    "            category = \"Wiper Blade\"        \n",
    "        elif (\"arm\" in desc.lower()) & (\"wiper\" in desc.lower()):\n",
    "            category = \"Wiper Arm\"\n",
    "        elif (\"belt\" in desc.lower()) & (\"retractor\" not in desc.lower()) & (\"hole\" not in desc.lower()) & (\"cover\" not in desc.lower()):\n",
    "            category = \"Belt\"\n",
    "        # elif (\"hose\" in desc.lower()) & (\"vent\" not in desc.lower()) & (\"connect\" not in desc.lower() & (\"radiator\" not in desc.lower()& (\"heater\" not in desc.lower()):\n",
    "        #     category = \"Hose\"\n",
    "\n",
    "        df_toBeCategorized.loc[i, categoryColName] = category\n",
    "        "
   ]
  },
  {
   "cell_type": "code",
   "execution_count": 14,
   "metadata": {},
   "outputs": [],
   "source": [
    "part_categorization(df_Main, 'Part Category')"
   ]
  },
  {
   "cell_type": "markdown",
   "metadata": {},
   "source": [
    "### Apply Zoning"
   ]
  },
  {
   "cell_type": "code",
   "execution_count": 15,
   "metadata": {},
   "outputs": [],
   "source": [
    "\n",
    "## * Main Function for Apply Zoning\n",
    "def Apply_Zoning(df_toBeZoned, zones, soldColName='Total Sold', zoneColName='Zone'): \n",
    "    df_toBeZoned.loc[:, zoneColName] = df_toBeZoned[soldColName].apply(lambda x: next((zone for zone, ratio in zones.items() if x >= ratio), list(zones.keys())[0]))\n",
    "    df_toBeZoned.loc[df_toBeZoned[soldColName] < 0, zoneColName] = None"
   ]
  },
  {
   "cell_type": "code",
   "execution_count": 16,
   "metadata": {},
   "outputs": [],
   "source": [
    "## Run the Apply_Zoning on df_Main\n",
    "Apply_Zoning(df_Main, zones, 'Total Sold', 'Zone')"
   ]
  },
  {
   "cell_type": "code",
   "execution_count": null,
   "metadata": {},
   "outputs": [],
   "source": [
    "## Check each Zone's number of Part Numbers\n",
    "df_Main['Zone'].value_counts()"
   ]
  },
  {
   "cell_type": "code",
   "execution_count": null,
   "metadata": {},
   "outputs": [],
   "source": []
  },
  {
   "cell_type": "markdown",
   "metadata": {},
   "source": [
    "### Specialty Storage Assignment"
   ]
  },
  {
   "cell_type": "markdown",
   "metadata": {},
   "source": [
    "#### Function for Bin Calculation"
   ]
  },
  {
   "cell_type": "code",
   "execution_count": 18,
   "metadata": {},
   "outputs": [],
   "source": [
    "def getNumOfBin(depth, width, height, raw_bin_dim, ohInven, fillFactor):\n",
    "    # ^ Raw Bin Dimensions has this format :-  Height_Depth_Width\n",
    "    if (raw_bin_dim != \"\") and (ohInven > 0):\n",
    "        bin_height = float(raw_bin_dim.split(\"_\")[1])\n",
    "        bin_depth = float(raw_bin_dim.split(\"_\")[2])\n",
    "        bin_width = float(raw_bin_dim.split(\"_\")[3])\n",
    "\n",
    "        if raw_bin_dim.split(\"_\")[0] == \"BR\":        ###  HANDLE BATTERY RACK\n",
    "            return round((bin_depth / width), 4)      \n",
    "               \n",
    "        volBin = fillFactor * bin_height * bin_depth * bin_width       ###  Available Storage Space\n",
    "        volPart = height * depth * width\n",
    "        if (volBin == 0):\n",
    "            return 0\n",
    "        \n",
    "        numOfBins = round((ohInven * volPart) / volBin , 4)            ###  Returns Fraction. \n",
    "        return numOfBins\n",
    "    else:\n",
    "        return 0"
   ]
  },
  {
   "cell_type": "markdown",
   "metadata": {},
   "source": [
    "### Main Function for Storage Assignment"
   ]
  },
  {
   "cell_type": "code",
   "execution_count": 19,
   "metadata": {},
   "outputs": [],
   "source": [
    "def getStorage(zone, pcate, depth, width, height, ohInven, fillFactor):\n",
    "    # Initialize the empty Variables\n",
    "    storageType = \"\"\n",
    "    subStorage = \"\"\n",
    "\n",
    "\n",
    "    isSpec, storageType, subStorage, raw_bin_dim = utils.getSpecialtyStorage(pcate, depth, width, height)\n",
    "\n",
    "    if not isSpec: \n",
    "        if (zone == \"Red Hot\") | (zone == \"Red\"):\n",
    "            storageType, subStorage, raw_bin_dim = utils.getRedHotStorage(depth, width, height)\n",
    "        elif (zone == \"Orange\") | (zone == \"Yellow\"):\n",
    "            storageType, subStorage, raw_bin_dim = utils.getOrangeYellowStorage(depth, width, height)\n",
    "        elif (zone == \"Green\") | (zone == \"Blue\"):   \n",
    "            storageType, subStorage, raw_bin_dim = utils.getGreenBlueStorage(depth, width, height)\n",
    " \n",
    "    numOfBins = getNumOfBin(depth, width, height, raw_bin_dim, ohInven, fillFactor)\n",
    "    binDim = \"\"\n",
    "\n",
    "    ## BUILD Bin Label with C (Clip), B (Bulk), D (Drawer), Battery RAck (BR), Tire Rack (TR) and Width-Depth-Height\n",
    "    if raw_bin_dim.strip():   \n",
    "        binDim =  raw_bin_dim.split('_')[0] + raw_bin_dim.split('_')[3] + raw_bin_dim.split('_')[2] + raw_bin_dim.split('_')[1]\n",
    "    \n",
    "\n",
    "    return storageType, subStorage, binDim, numOfBins # Return the Values"
   ]
  },
  {
   "cell_type": "markdown",
   "metadata": {},
   "source": [
    "#### Apply the Storage Function"
   ]
  },
  {
   "cell_type": "code",
   "execution_count": 20,
   "metadata": {},
   "outputs": [],
   "source": [
    "for i in range(df_Main.shape[0]):\n",
    "    # Set the Dimensions of the Data into Variables\n",
    "    depth = df_Main.loc[i, \"Depth\"]\n",
    "    height = df_Main.loc[i, \"Height\"]\n",
    "    width = df_Main.loc[i, \"Width\"]\n",
    "\n",
    "    zone = df_Main.loc[i, \"Zone\"]\n",
    "    pcate = df_Main.loc[i, \"Part Category\"]\n",
    "    ohInven = df_Main.loc[i, \"OH Inventory\"]\n",
    "\n",
    "    # If any dimension is zero, set empty Storage\n",
    "    if df_Main.loc[i, \"0Dimensions\"] == True:\n",
    "        df_Main.loc[i, \"StorageType\"] = \"\"\n",
    "        df_Main.loc[i, \"SubStorage\"] = \"\"\n",
    "        continue\n",
    "\n",
    "    # Set Storage of the Parts\n",
    "    df_Main.loc[i, \"StorageType\"], df_Main.loc[i, \"SubStorage\"], df_Main.loc[i, \"Bin Type\"], df_Main.loc[i, \"Num. Bin Required\"] = getStorage(zone, pcate, depth, width, height, ohInven, fillFactor)"
   ]
  },
  {
   "cell_type": "code",
   "execution_count": 21,
   "metadata": {},
   "outputs": [],
   "source": [
    "\n",
    "## ^ HANGING Storage Calculation\n",
    "# TODO: To Get the SKU Count for Hanging Storage\n",
    "## * ASSUMPTION:  Hook Length Based on SKU Count:\n",
    "## * 6-inch hooks: For SKUs with 10 items or fewer.   12-inch hooks: For SKUs with 10–20 items\n",
    "\n",
    "for hangingPN in df_Main.loc[df_Main['StorageType'] == 'Hanging Specialty Storage', \"Part#\"]:\n",
    "    df_Main.loc[(df_Main['Part#'] == hangingPN), \"SubStorage\"], df_Main.loc[(df_Main['Part#'] == hangingPN), \"Bin Type\"], hookDiv = (\"6-inch Hook\", \"HS06\", 10) if df_Main.loc[(df_Main['Part#'] == hangingPN), \"SKU Count\"].values[0] <= 10 else (\"12-inch Hook\", \"HS12\", 20)\n",
    "    #df_Main.loc[(df_Main['Part#'] == hangingPN), \"Num. Bin Required\"] = round(int(df_Main.loc[(df_Main['Part#'] == hangingPN), \"OH Inventory\"].values[0]) / hookDiv, 4)\n",
    "    df_Main.loc[(df_Main['Part#'] == hangingPN), \"Num. Bin Required\"] = int(df_Main.loc[(df_Main['Part#'] == hangingPN), \"OH Inventory\"].values[0]) \n",
    "\n",
    "df_Main.loc[df_Main['StorageType'] != 'Hanging Specialty Storage', \"SKU Count\"] = 0\n"
   ]
  },
  {
   "cell_type": "code",
   "execution_count": null,
   "metadata": {},
   "outputs": [],
   "source": [
    "\n",
    "## ^ Tire Storage Calculation\n",
    "# TODO: CLARIFY the Calculation of Tire Carousel Model Selection Based on Percentage \n",
    "## * ASSUMPTION:  If 50% of Tires Have 33-inch or More Diameter, Assign Large-Storage (72-width carousel)\n",
    "## * ELSE,  For 28-inch or less, and,  between 28-33 inches, assign standard carrousel (48-width carousel) \n",
    "# & df_Main.loc[df_Main['StorageType'] == 'Tire Specialty Storage', 'SubStorage'] \n",
    "carousel_model = 'TR72' if df_Main[df_Main['StorageType'] == 'Tire Specialty Storage'][df_Main['SubStorage'] == '33-inches Dia'].shape[0] / df_Main[df_Main['StorageType'] == 'Tire Specialty Storage'].shape[0] >= tirePercent else 'TR48'\n",
    "carousel_width = 72 if df_Main[df_Main['StorageType'] == 'Tire Specialty Storage'][df_Main['SubStorage'] == '33-inches Dia'].shape[0] / df_Main[df_Main['StorageType'] == 'Tire Specialty Storage'].shape[0] >= tirePercent else 48\n",
    "for tirePN in df_Main.loc[df_Main['StorageType'] == 'Tire Specialty Storage', \"Part#\"]:\n",
    "    df_Main.loc[(df_Main['Part#'] == tirePN), \"Num. Bin Required\"] = round(int(df_Main.loc[(df_Main['Part#'] == tirePN), \"OH Inventory\"].values[0]) / (carousel_width // int(df_Main.loc[(df_Main['Part#'] == tirePN), \"Width\"].values[0])), 4)\n",
    "    df_Main.loc[(df_Main['Part#'] == tirePN), \"Bin Type\"] = carousel_model\n",
    "    "
   ]
  },
  {
   "cell_type": "code",
   "execution_count": null,
   "metadata": {},
   "outputs": [],
   "source": [
    "utils.print_df(df_Main)"
   ]
  },
  {
   "cell_type": "code",
   "execution_count": 24,
   "metadata": {},
   "outputs": [],
   "source": [
    "df_Main.to_excel('FinalDataset.xlsx', index=False) "
   ]
  },
  {
   "cell_type": "code",
   "execution_count": null,
   "metadata": {},
   "outputs": [],
   "source": [
    "df_Main[\"StorageType\"].value_counts()"
   ]
  },
  {
   "cell_type": "code",
   "execution_count": null,
   "metadata": {},
   "outputs": [],
   "source": [
    "df_Main[(df_Main[\"0Dimensions\"] == True) & (df_Main[\"StorageType\"] == \"\")]"
   ]
  }
 ],
 "metadata": {
  "kernelspec": {
   "display_name": "Python 3",
   "language": "python",
   "name": "python3"
  },
  "language_info": {
   "codemirror_mode": {
    "name": "ipython",
    "version": 3
   },
   "file_extension": ".py",
   "mimetype": "text/x-python",
   "name": "python",
   "nbconvert_exporter": "python",
   "pygments_lexer": "ipython3",
   "version": "3.12.5"
  }
 },
 "nbformat": 4,
 "nbformat_minor": 2
}
