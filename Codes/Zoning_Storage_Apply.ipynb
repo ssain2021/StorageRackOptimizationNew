{
 "cells": [
  {
   "cell_type": "code",
   "execution_count": null,
   "metadata": {},
   "outputs": [],
   "source": [
    "# Normal Comment\n",
    "# ! Very Important Errors or things which must be fixed or be in attention immediately\n",
    "# TODO: Things remaining to do\n",
    "# ? Questions\n",
    "# * Some Messages or Notes\n",
    "# ^ Important Notes, Messages or things which may need attention in future\n",
    "# & Important Commented out Code\n",
    "# ~ Purple"
   ]
  },
  {
   "cell_type": "code",
   "execution_count": null,
   "metadata": {},
   "outputs": [],
   "source": [
    "\n",
    "#^###############################  Storage_Optimization.ipynb  ####################################\n",
    "# ^ Author: Sukhendu Sain\n",
    "# ^ Description: Main file of codebase. Houses main code\n",
    "# ^ Data: 23-Nov-2024\n",
    "#^################################################################################"
   ]
  },
  {
   "cell_type": "code",
   "execution_count": null,
   "metadata": {},
   "outputs": [],
   "source": [
    "# Import Necessary Libraries, Utils, and Config Files\n",
    "import utils\n",
    "from config import *\n",
    "import pandas as pd\n",
    "import numpy as np\n",
    "import math\n",
    "import matplotlib.pyplot as plt\n",
    "# import importlib\n",
    "# importlib.reload(utils)"
   ]
  },
  {
   "cell_type": "markdown",
   "metadata": {},
   "source": [
    "# Data Import and Clean"
   ]
  },
  {
   "cell_type": "code",
   "execution_count": null,
   "metadata": {},
   "outputs": [],
   "source": [
    "#### Read FILE:: (AKINS FoMoCo_Piece_Sales_112222_YTD.xlsx) into Dataframe\n",
    "# df_Akins = utils.read_excel(AKINS_FOMO_FILE_PATH)\n",
    "# df_Akins['Part#'] = df_Akins['Part#'].apply(lambda a: \"\".join(str(a).split('-')))\n",
    "# if print_df_after_import: utils.print_df(df_Akins, 200) # Print the Dataframe\n",
    "# ~1-2secs"
   ]
  },
  {
   "cell_type": "code",
   "execution_count": null,
   "metadata": {},
   "outputs": [],
   "source": [
    "#### Read FILE:: (GPARTS Part Measures.xlsx) into Dataframe\n",
    "df_Gparts = utils.read_excel(GPARTS_FILE_PATH)\n",
    "if print_df_after_import: utils.print_df(df_Gparts) # Print the Dataframe\n",
    "# ~50-60secs"
   ]
  },
  {
   "cell_type": "code",
   "execution_count": null,
   "metadata": {},
   "outputs": [],
   "source": [
    "#### Read FILE:: (Wholesale JAN_Oct_Parts_Ranking_Counter_Invoices_All_Brands.xlsx) into Dataframe\n",
    "df_Wholesale = utils.read_excel(WHOLESALE_FILE_PATH)\n",
    "\n",
    "# Clean the Wholesale Dataframe\n",
    "df_Wholesale['Description'] = df_Wholesale['Description'].astype(str)\n",
    "df_Wholesale = df_Wholesale.drop(columns=[col for col in df_Wholesale.columns if 'Unnamed' in col], inplace=False)\n",
    "df_Wholesale = df_Wholesale[(df_Wholesale['Vendor'] == 'FOR')].reset_index()\n",
    "df_Wholesale.loc[df_Wholesale['Description'].apply(lambda x: len(x.split(\"      \")) > 1), 'Avg. Cost'] = df_Wholesale['Description'].apply(lambda x: [i for i in x.strip().split(\"      \")][-1])\n",
    "df_Wholesale.loc[df_Wholesale['Description'].apply(lambda x: len(x.split(\"      \")) > 1), 'Description'] = df_Wholesale['Description'].apply(lambda x: \"     \".join([i for i in x.strip().split(\"      \")][:-1]))\n",
    "\n",
    "if print_df_after_import: utils.print_df(df_Wholesale) # Print the Dataframe\n",
    "# ~12-15secs"
   ]
  },
  {
   "cell_type": "code",
   "execution_count": null,
   "metadata": {},
   "outputs": [],
   "source": [
    "#### Read FILE:: (Service JAN_Oct_Parts_Ranking_ROs_All_Brands.xlsx) into Dataframe\n",
    "df_Service = utils.read_excel(SERVICE_FILE_PATH)\n",
    "\n",
    "# Clean the Service Dataframe\n",
    "df_Service['Description'] = df_Service['Description'].astype(str)\n",
    "df_Service = df_Service.drop(columns=[col for col in df_Service.columns if 'Unnamed' in col], inplace=False)\n",
    "df_Service = df_Service[(df_Service['Vendor'] == 'FOR')].reset_index()\n",
    "df_Service.loc[df_Service['Description'].apply(lambda x: len(x.split(\"      \")) > 1), 'Avg. Cost'] = df_Service['Description'].apply(lambda x: [i for i in x.strip().split(\"      \")][-1])\n",
    "df_Service.loc[df_Service['Description'].apply(lambda x: len(x.split(\"      \")) > 1), 'Description'] = df_Service['Description'].apply(lambda x: \"     \".join([i for i in x.strip().split(\"      \")][:-1]))\n",
    "df_Service.loc[df_Service['Qty Sold'].apply(lambda x: len(str(x).split(\"      \")) > 1), 'Dollars Sold'] = df_Service['Qty Sold'].apply(lambda x: [i for i in str(x).strip().split(\"      \")][-1])\n",
    "df_Service.loc[df_Service['Qty Sold'].apply(lambda x: len(str(x).split(\"      \")) > 1), 'Qty Sold'] = df_Service['Qty Sold'].apply(lambda x: \"     \".join([i for i in str(x).strip().split(\"      \")][:-1]))\n",
    "\n",
    "if print_df_after_import: utils.print_df(df_Service, 100) # Print the Dataframe\n",
    "# ~5-6secs"
   ]
  },
  {
   "cell_type": "code",
   "execution_count": null,
   "metadata": {},
   "outputs": [],
   "source": [
    "#### Read FILE:: (Counter Pad) into Dataframe"
   ]
  },
  {
   "cell_type": "code",
   "execution_count": null,
   "metadata": {},
   "outputs": [],
   "source": []
  },
  {
   "cell_type": "markdown",
   "metadata": {},
   "source": [
    "# Data Processing & Calculation"
   ]
  },
  {
   "cell_type": "markdown",
   "metadata": {},
   "source": [
    "### Make a Big Final Dataframe"
   ]
  },
  {
   "cell_type": "code",
   "execution_count": null,
   "metadata": {},
   "outputs": [],
   "source": [
    "\n",
    "# * It will have the Columns - 'Part Number', 'Part Desc.', 'Active', 'Sold (Pcs.)', '0Dimensions', 'Length/Depth', 'Width', 'Height', 'Zone', 'Storage Type', 'Sub Storage', 'Number of Storage needed'\n",
    "# It will have all the rows with common part nos. from 3 Files, having Appropriate Sold Pcs. Values, and Dimensions\n",
    "\n",
    "main_list = [] # Initialize the New List, which will hold all rows before turning into DF\n",
    "gParts_PartNos = set(df_Gparts['Svc Part Number']) # Get a Set of all Part Nos. of GParts\n",
    "\n",
    "\n",
    "# Wholesale\n",
    "common_part_numbers = gParts_PartNos & set(df_Wholesale['Part Number'])\n",
    "df_PreMerge = df_Gparts.loc[df_Gparts['Svc Part Number'].isin(common_part_numbers), ['Svc Part Number', 'Svc Part Number Description', 'Is Active?', 'Prod Att - Length', 'Prod Att- Width', 'Prod Att - Height']]\n",
    "for pn, pddesc, ac, dp, wd, ht in zip(df_PreMerge['Svc Part Number'], df_PreMerge['Svc Part Number Description'], df_PreMerge['Is Active?'], df_PreMerge['Prod Att - Length'], df_PreMerge['Prod Att- Width'], df_PreMerge['Prod Att - Height']):\n",
    "    main_list.append([pn, pddesc, \"\", \"Wholesale\", ac, df_Wholesale[df_Wholesale['Part Number'] == pn]['Sold'].values[0], 0, 0, False, dp, wd, ht, \"\", \"\", \"\", 0, \"\", \"\"])\n",
    "\n",
    "\n",
    "# Service\n",
    "common_part_numbers = gParts_PartNos & set(df_Service['* indicates a superseded part\\nPart Number'])\n",
    "df_PreMerge = df_Gparts.loc[df_Gparts['Svc Part Number'].isin(common_part_numbers), ['Svc Part Number', 'Svc Part Number Description', 'Is Active?', 'Prod Att - Length', 'Prod Att- Width', 'Prod Att - Height']]\n",
    "for pn, pddesc, ac, dp, wd, ht in zip(df_PreMerge['Svc Part Number'], df_PreMerge['Svc Part Number Description'], df_PreMerge['Is Active?'], df_PreMerge['Prod Att - Length'], df_PreMerge['Prod Att- Width'], df_PreMerge['Prod Att - Height']):\n",
    "    main_list.append([pn, pddesc, \"\", \"Service\", ac, 0, df_Service[df_Service['* indicates a superseded part\\nPart Number'] == pn]['Qty Sold'].values[0], 0, False, dp, wd, ht, \"\", \"\", \"\", 0, \"\", \"\"])\n",
    "\n",
    "\n",
    "# Create the Main Dataframe\n",
    "df_Main = pd.DataFrame(main_list)\n",
    "df_Main.columns = ['Part#', 'Part Desc.', 'Part Category', 'DataSource', 'Active', 'Wholesale Sold', 'Service Sold', \"Total Sold\", '0Dimensions', 'Depth', 'Width', 'Height', 'Zone', 'StorageType', 'SubStorage', 'OH Inventory', 'Num. Storage Required', \"Bin Location\"]\n",
    "\n",
    "# Merge the Parts present in both Service and Wholesale (Duplicates)\n",
    "gbParts = df_Main.groupby('Part#').count()[df_Main.groupby('Part#').count()['Part Desc.'] == 2].index.to_list()\n",
    "for pn in gbParts:\n",
    "    df_Main.loc[(df_Main['Part#'] == pn) & (df_Main['DataSource'] == \"Wholesale\"), \"Service Sold\"] = df_Main.loc[(df_Main['Part#'] == pn) & (df_Main['DataSource'] == \"Service\"), \"Service Sold\"].values[0]\n",
    "    df_Main = df_Main[(df_Main['Part#'] != pn) | (df_Main['DataSource'] == \"Wholesale\")]\n",
    "# Set 0Dimensions\n",
    "df_Main.loc[(df_Main[\"Depth\"] == 0) | (df_Main[\"Height\"] == 0) | (df_Main[\"Width\"] == 0), \"0Dimensions\"] = True\n",
    "# Drop 0Dimensions Rows if drop0Dims\n",
    "if drop0Dims: df_Main = df_Main[df_Main[\"0Dimensions\"] == False]\n",
    "# Set Total_Sold\n",
    "df_Main[\"Total Sold\"] = df_Main[\"Wholesale Sold\"].astype(int) + df_Main[\"Service Sold\"].astype(int)\n",
    "# Sort by 'Total Sold'\n",
    "df_Main = df_Main.sort_values('Total Sold', ascending=False)\n",
    "# ^ Add Random Values for OH Inventory temporarily\n",
    "df_Main[\"OH Inventory\"] = np.random.choice(np.arange(20), size=len(df_Main), replace=True)\n",
    "# Reset Index\n",
    "df_Main = df_Main.reset_index(drop=True)"
   ]
  },
  {
   "cell_type": "code",
   "execution_count": null,
   "metadata": {},
   "outputs": [],
   "source": [
    "\n",
    "# * Change some data Manually\n",
    "df_Main.loc[df_Main[\"Part#\"] == '6F2Z1A189A', [\"Part Desc.\",\"0Dimensions\", \"Depth\", \"Height\", \"Width\", \"OH Inventory\"]] = [\"6F2Z1A189A-TIRE\",False, 28,28,3,100]\n",
    "df_Main.loc[df_Main[\"Part#\"] == '7L1Z1A189A', [\"Part Desc.\",\"0Dimensions\", \"Depth\", \"Height\", \"Width\", \"OH Inventory\"]] = [\"7L1Z1A189A-TIRE\",False, 34,34,3.5,50]\n",
    "df_Main.loc[df_Main[\"Part#\"] == '9OO1183106436', [\"0Dimensions\", \"Depth\", \"Height\", \"Width\", \"OH Inventory\"]] = [False, 30,30,3,1000]\n",
    "df_Main.loc[df_Main[\"Part#\"] == '9OO439510', [\"0Dimensions\", \"Depth\", \"Height\", \"Width\", \"OH Inventory\"]] = [False, 45,45,4.5,500]\n",
    "df_Main.loc[df_Main[\"Part#\"] == '9OO1732002500', [\"0Dimensions\", \"Depth\", \"Height\", \"Width\", \"OH Inventory\"]] = [False, 50,50,5,250]\n",
    "df_Main.loc[df_Main[\"Part#\"] == '9OO3004901', [\"0Dimensions\", \"Depth\", \"Height\", \"Width\", \"OH Inventory\"]] = [False, 40,40,4,25]\n",
    "df_Main[['TIRE' in s for s in df_Main[\"Part Desc.\"]]]"
   ]
  },
  {
   "cell_type": "code",
   "execution_count": null,
   "metadata": {},
   "outputs": [],
   "source": [
    "utils.print_df(df_Main)"
   ]
  },
  {
   "cell_type": "code",
   "execution_count": null,
   "metadata": {},
   "outputs": [],
   "source": [
    "def part_categorization(df_toBeCategorized):\n",
    "    # TODO: Add more categories\n",
    "    for i in range(df_toBeCategorized.shape[0]):\n",
    "        desc = \"-\".join(df_toBeCategorized.loc[i, \"Part Desc.\"].split(\"-\")[1:])\n",
    "        category = \"\"\n",
    "        if \"rivet\" in desc.lower():\n",
    "            category = \"Rivet\"\n",
    "        elif (\"blade\" in desc.lower()) & (\"wiper\" in desc.lower()):\n",
    "            category = \"Wiper Blade\"        \n",
    "        elif (\"arm\" in desc.lower()) & (\"wiper\" in desc.lower()):\n",
    "            category = \"Wiper Arm\"\n",
    "        elif (\"v-belt\" in desc.lower()):\n",
    "            category = \"V-Belt\"\n",
    "        elif (\"belt\" in desc.lower()) & (\"retractor\" not in desc.lower()) & (\"hole\" not in desc.lower()) & (\"cover\" not in desc.lower()):\n",
    "            category = \"Belt\"\n",
    "        # elif (\"hose\" in desc.lower()) & (\"vent\" not in desc.lower()) & (\"connect\" not in desc.lower() & (\"radiator\" not in desc.lower()& (\"heater\" not in desc.lower()):\n",
    "        #     category = \"Hose\"\n",
    "\n",
    "        df_toBeCategorized.loc[i, 'Part Category'] = category"
   ]
  },
  {
   "cell_type": "markdown",
   "metadata": {},
   "source": [
    "### Apply Zoning"
   ]
  },
  {
   "cell_type": "code",
   "execution_count": null,
   "metadata": {},
   "outputs": [],
   "source": [
    "\n",
    "## * Main Function for Apply Zoning\n",
    "def Apply_Zoning(df_toBeZoned, zones, soldColName='Total Sold', zoneColName='Zone'): \n",
    "    df_toBeZoned.loc[:, zoneColName] = df_toBeZoned[soldColName].apply(lambda x: next((zone for zone, ratio in zones.items() if x >= ratio), list(zones.keys())[0]))\n",
    "    df_toBeZoned.loc[df_toBeZoned[soldColName] < 0, zoneColName] = None"
   ]
  },
  {
   "cell_type": "code",
   "execution_count": null,
   "metadata": {},
   "outputs": [],
   "source": [
    "## Run the Apply_Zoning on df_Main\n",
    "Apply_Zoning(df_Main, zones, 'Total Sold', 'Zone')"
   ]
  },
  {
   "cell_type": "code",
   "execution_count": null,
   "metadata": {},
   "outputs": [],
   "source": [
    "## Check each Zone's number of Part Numbers\n",
    "df_Main['Zone'].value_counts()"
   ]
  },
  {
   "cell_type": "code",
   "execution_count": null,
   "metadata": {},
   "outputs": [],
   "source": []
  },
  {
   "cell_type": "markdown",
   "metadata": {},
   "source": [
    "### Specialty Storage Assignment"
   ]
  },
  {
   "cell_type": "markdown",
   "metadata": {},
   "source": [
    "#### Function for Bin Calculation"
   ]
  },
  {
   "cell_type": "code",
   "execution_count": null,
   "metadata": {},
   "outputs": [],
   "source": [
    "def getNumOfBin(depth, width, height, raw_bin_dim, ohInven):\n",
    "    # ^ Raw Bin Dimensions has this format :-  Height_Depth_Width\n",
    "    if (raw_bin_dim != \"\") and (ohInven > 0):\n",
    "        bin_height = float(raw_bin_dim.split(\"_\")[0])\n",
    "        bin_depth = float(raw_bin_dim.split(\"_\")[1])\n",
    "        bin_width = float(raw_bin_dim.split(\"_\")[2])\n",
    "\n",
    "        numOfBins = math.ceil(ohInven / (math.floor(bin_depth / depth) * math.floor(bin_width / width) * math.floor(bin_height / height)))\n",
    "        \n",
    "        return numOfBins\n",
    "    else:\n",
    "        return 0"
   ]
  },
  {
   "cell_type": "markdown",
   "metadata": {},
   "source": [
    "### Main Function for Storage Assignment"
   ]
  },
  {
   "cell_type": "code",
   "execution_count": null,
   "metadata": {},
   "outputs": [],
   "source": [
    "def getStorage(zone, pdesc, depth, width, height, ohInven):\n",
    "    # Initialize the empty Variables\n",
    "    storageType = \"\"\n",
    "    subStorage = \"\"\n",
    "\n",
    "    isSpec, storageType, subStorage, raw_bin_dim = utils.getSpecialityStorage(pdesc, depth, width, height)\n",
    "\n",
    "    if not isSpec: \n",
    "        if (zone == \"Red Hot\") | (zone == \"Red\"):\n",
    "            storageType, subStorage, raw_bin_dim = utils.getRedHotStorage(depth, width, height)\n",
    "        elif zone == \"Orange\":\n",
    "            storageType, subStorage, raw_bin_dim = utils.getOrangeStorage(depth, width, height)\n",
    "        elif zone == \"Yellow\":\n",
    "            storageType, subStorage, raw_bin_dim = utils.getYellowStorage(depth, width, height)\n",
    "        elif zone == \"Green\":   \n",
    "            storageType, subStorage, raw_bin_dim = utils.getGreenStorage(depth, width, height)\n",
    "        elif zone == \"Blue\":\n",
    "            storageType, subStorage, raw_bin_dim = utils.getBlueStorage(depth, width, height)\n",
    "\n",
    "    numOfBins = getNumOfBin(depth, width, height, raw_bin_dim, ohInven)\n",
    "\n",
    "    return storageType, subStorage, numOfBins # Return the Values"
   ]
  },
  {
   "cell_type": "markdown",
   "metadata": {},
   "source": [
    "#### Apply the Storage Function"
   ]
  },
  {
   "cell_type": "code",
   "execution_count": null,
   "metadata": {},
   "outputs": [],
   "source": [
    "for i in range(df_Main.shape[0]):\n",
    "    # Set the Dimensions of the Data into Variables\n",
    "    depth = df_Main.loc[i, \"Depth\"]\n",
    "    height = df_Main.loc[i, \"Height\"]\n",
    "    width = df_Main.loc[i, \"Width\"]\n",
    "\n",
    "    zone = df_Main.loc[i, \"Zone\"]\n",
    "    pdesc = df_Main.loc[i, \"Part Desc.\"]\n",
    "    ohInven = df_Main.loc[i, \"OH Inventory\"]\n",
    "\n",
    "    # If any dimension is zero, set empty Storage\n",
    "    if df_Main.loc[i, \"0Dimensions\"] == True:\n",
    "        df_Main.loc[i, \"StorageType\"] = \"\"\n",
    "        df_Main.loc[i, \"SubStorage\"] = \"\"\n",
    "        continue\n",
    "\n",
    "    # Set Storage of the Parts\n",
    "    df_Main.loc[i, \"StorageType\"], df_Main.loc[i, \"SubStorage\"], df_Main.loc[i, \"Num. Storage Required\"] = getStorage(zone, pdesc, depth, width, height, ohInven)\n"
   ]
  },
  {
   "cell_type": "code",
   "execution_count": null,
   "metadata": {},
   "outputs": [],
   "source": [
    "import math\n",
    "\n",
    "def optimize_part_packing(part_height, part_width, part_depth, shelf_height, shelf_width, shelf_depth):\n",
    "    combinations = [\n",
    "        (\"width\", \"height\", \"depth\"),  # Part_width along shelf_width, part_height along shelf_height, and part_depth along shelf_depth\n",
    "        (\"width\", \"depth\", \"height\"),  # Part_width along shelf_depth, part_height along shelf_height, and part_depth along shelf_width\n",
    "        (\"depth\", \"width\", \"height\"),  # Part_depth along shelf_width, part_height along shelf_height, and part_width along shelf_depth\n",
    "        (\"depth\", \"height\", \"width\"),  # Part_depth along shelf_depth, part_height along shelf_height, and part_width along shelf_width\n",
    "        (\"height\", \"depth\", \"width\"),  # Part_width along shelf_height, part_height along shelf_depth, and part_depth along shelf_width\n",
    "        (\"height\", \"width\", \"depth\"),  # Part_depth along shelf_height, part_height along shelf_depth, and part_width along shelf_width\n",
    "     ]\n",
    "\n",
    "    results = []\n",
    "\n",
    "    def get_dimension(dimensions, index):\n",
    "        return {\n",
    "            'width': dimensions[1],\n",
    "            'height': dimensions[0],\n",
    "            'depth': dimensions[2]\n",
    "        }[index]\n",
    "\n",
    "    part_dimensions = (part_height, part_width, part_depth)\n",
    "    shelf_dimensions = (shelf_height, shelf_width, shelf_depth)\n",
    "\n",
    "    for combination in combinations:\n",
    "        p1, p2, p3 = [get_dimension(part_dimensions, c) for c in combination]\n",
    "        s1 = shelf_width\n",
    "        s2 = shelf_depth\n",
    "        s3 = shelf_height\n",
    "        \n",
    "        initial_layers = math.floor(s1 / p1)\n",
    "        initial_filters_per_layer = math.floor(s2 / p2) * math.floor(s3 / p3)\n",
    "        initial_parts = initial_layers * initial_filters_per_layer\n",
    "\n",
    "        remaining_s1 = s1 % p1\n",
    "        remaining_s2 = s2 % p2\n",
    "        remaining_s3 = s3 % p3\n",
    "\n",
    "        additional_parts = calculate_additional_parts(remaining_s1, remaining_s2, remaining_s3, part_height, part_width, part_depth)\n",
    "\n",
    "        total_parts = initial_parts + additional_parts\n",
    "\n",
    "        results.append({\n",
    "            'Combination': f\"Part_{combination[0]} along shelf_width, Part_{combination[1]} along shelf_depth, and Part_{combination[2]} along shelf_height\",\n",
    "            'Initial Parts': initial_parts,\n",
    "            'Additional Parts': additional_parts,\n",
    "            'Total Parts': total_parts\n",
    "        })\n",
    "\n",
    "    return results\n",
    "\n",
    "def calculate_additional_parts(remaining_height, remaining_width, remaining_depth, part_height, part_width, part_depth):\n",
    "    max_filters = 0\n",
    "    \n",
    "    orientations = [\n",
    "        (part_height, part_width, part_depth),\n",
    "        (part_height, part_depth, part_width),\n",
    "        (part_depth, part_width, part_height),\n",
    "        (part_depth, part_height, part_width),\n",
    "        (part_width, part_height, part_depth),\n",
    "        (part_width, part_depth, part_height)\n",
    "    ]\n",
    "    \n",
    "    for orientation in orientations:\n",
    "        new_layers = math.floor(remaining_height / orientation[0])\n",
    "        new_filters_per_layer = math.floor(remaining_width / orientation[1]) * math.floor(remaining_depth / orientation[2])\n",
    "        \n",
    "        additional_filters = new_layers * new_filters_per_layer\n",
    "        max_filters = max(max_filters, additional_filters)\n",
    "    \n",
    "    return max_filters\n",
    "\n",
    "# Example usage\n",
    "part_height = 2\n",
    "part_width = 8\n",
    "part_depth = 10\n",
    "\n",
    "shelf_height = 12\n",
    "shelf_width = 12\n",
    "shelf_depth = 48\n",
    "\n",
    "results = optimize_part_packing(part_height, part_width, part_depth, shelf_height, shelf_width, shelf_depth)\n",
    "\n",
    "for result in results:\n",
    "    print(f\"\\n{result['Combination']}:\")\n",
    "    print(f\"Initial Parts: {result['Initial Parts']}\")\n",
    "    print(f\"Additional Parts: {result['Additional Parts']}\")\n",
    "    print(f\"Total Parts: {result['Total Parts']}\")\n",
    "\n",
    "print(\"\\nBest Combination:\")\n",
    "best_result = max(results, key=lambda x: x['Total Parts'])\n",
    "print(f\"{best_result['Combination']}: Total Parts = {best_result['Total Parts']}\")"
   ]
  },
  {
   "cell_type": "code",
   "execution_count": null,
   "metadata": {},
   "outputs": [],
   "source": [
    "def calculate_max_parts(shelf_depth, shelf_width, shelf_height, part_depth, part_width, part_height):\n",
    "    print(f\"Initial call: shelf_depth={shelf_depth}, shelf_width={shelf_width}, shelf_height={shelf_height}, \"\n",
    "          f\"part_depth={part_depth}, part_width={part_width}, part_height={part_height}\")\n",
    "\n",
    "    if (part_depth * part_width * part_height) > (shelf_depth * shelf_width * shelf_height):\n",
    "        print(\"Returning 0 due to invalid dimensions\")\n",
    "        return 0, None\n",
    "\n",
    "    def calculate_parts_for_orientation(orientation):\n",
    "        print(f\"Calculating for orientation: {orientation}\")\n",
    "        if orientation == 'depth':\n",
    "            if (part_depth > shelf_depth) or (part_width > shelf_width) or (part_height > shelf_height): return 0\n",
    "            base_parts = ((shelf_depth // part_depth) * (shelf_width // part_width)) * (shelf_height // part_height)\n",
    "            print(f\"Base parts for depth: {base_parts}\")\n",
    "            additional_parts1, best_orient = calculate_max_parts(shelf_depth % part_depth, shelf_width, shelf_height, part_depth, part_width, part_height)\n",
    "            additional_parts2, best_orient = calculate_max_parts(shelf_depth, shelf_width % part_width, shelf_height, part_depth, part_width, part_height)\n",
    "            additional_parts3, best_orient = calculate_max_parts(shelf_depth, shelf_width, shelf_height % part_height, part_depth, part_width, part_height)\n",
    "            print(f\"Additional parts for depth: {additional_parts1}, {additional_parts2}, {additional_parts3}\")\n",
    "            return base_parts + max(additional_parts1, additional_parts2, additional_parts3)\n",
    "        elif orientation == 'height':\n",
    "            if (part_height > shelf_depth) or (part_width > shelf_width) or (part_depth > shelf_height): return 0\n",
    "            base_parts = ((shelf_depth // part_height) * (shelf_width // part_width)) * (shelf_height // part_depth)\n",
    "            print(f\"Base parts for height: {base_parts}\")\n",
    "            additional_parts1, best_orient = calculate_max_parts(shelf_depth % part_height, shelf_width, shelf_height, part_depth, part_width, part_height)\n",
    "            additional_parts2, best_orient = calculate_max_parts(shelf_depth, shelf_width % part_width, shelf_height, part_depth, part_width, part_height)\n",
    "            additional_parts3, best_orient = calculate_max_parts(shelf_depth, shelf_width, shelf_height % part_depth, part_depth, part_width, part_height)\n",
    "            print(f\"Additional parts for height: {additional_parts1}, {additional_parts2}, {additional_parts3}\")\n",
    "            return base_parts + max(additional_parts1, additional_parts2, additional_parts3)\n",
    "        elif orientation == 'width':\n",
    "            if (part_width > shelf_depth) or (part_depth > shelf_width) or (part_height > shelf_height): return 0\n",
    "            base_parts = ((shelf_depth // part_width) * (shelf_width // part_depth)) * (shelf_height // part_height)\n",
    "            print(f\"Base parts for width: {base_parts}\")\n",
    "            additional_parts1, best_orient = calculate_max_parts(shelf_depth % part_width, shelf_width, shelf_height, part_depth, part_width, part_height)\n",
    "            additional_parts2, best_orient = calculate_max_parts(shelf_depth, shelf_width % part_depth, shelf_height, part_depth, part_width, part_height)\n",
    "            additional_parts3, best_orient = calculate_max_parts(shelf_depth, shelf_width, shelf_height % part_height, part_depth, part_width, part_height)\n",
    "            print(f\"Additional parts for width: {additional_parts1}, {additional_parts2}, {additional_parts3}\")\n",
    "            return base_parts + max(additional_parts1, additional_parts2, additional_parts3)\n",
    "        elif orientation == 'depth_height':\n",
    "            if (part_depth > shelf_depth) or (part_height > shelf_width) or (part_width > shelf_height): return 0\n",
    "            base_parts = ((shelf_depth // part_depth) * (shelf_width // part_height)) * (shelf_height // part_width)\n",
    "            print(f\"Base parts for depth_height: {base_parts}\")\n",
    "            additional_parts1, best_orient = calculate_max_parts(shelf_depth % part_depth, shelf_width, shelf_height, part_depth, part_width, part_height)\n",
    "            additional_parts2, best_orient = calculate_max_parts(shelf_depth, shelf_width % part_height, shelf_height, part_depth, part_width, part_height)\n",
    "            additional_parts3, best_orient = calculate_max_parts(shelf_depth, shelf_width, shelf_height % part_width, part_depth, part_width, part_height)\n",
    "            print(f\"Additional parts for depth_height: {additional_parts1}, {additional_parts2}, {additional_parts3}\")\n",
    "            return base_parts + max(additional_parts1, additional_parts2, additional_parts3)\n",
    "        elif orientation == 'depth_width':\n",
    "            if (part_height > shelf_depth) or (part_depth > shelf_width) or (part_width > shelf_height): return 0\n",
    "            base_parts = ((shelf_depth // part_height) * (shelf_width // part_depth)) * (shelf_height // part_width)\n",
    "            print(f\"Base parts for depth_width: {base_parts}\")\n",
    "            additional_parts1, best_orient = calculate_max_parts(shelf_depth % part_height, shelf_width, shelf_height, part_depth, part_width, part_height)\n",
    "            additional_parts2, best_orient = calculate_max_parts(shelf_depth, shelf_width % part_height, shelf_height, part_depth, part_width, part_height)\n",
    "            additional_parts3, best_orient = calculate_max_parts(shelf_depth, shelf_width, shelf_height % part_width, part_depth, part_width, part_height)\n",
    "            print(f\"Additional parts for depth_width: {additional_parts1}, {additional_parts2}, {additional_parts3}\")\n",
    "            return base_parts + max(additional_parts1, additional_parts2, additional_parts3)\n",
    "        elif orientation == 'height_width':\n",
    "            if (part_width > shelf_depth) or (part_height > shelf_width) or (part_depth > shelf_height): return 0\n",
    "            base_parts = ((shelf_depth // part_width) * (shelf_width // part_height)) * (shelf_height // part_depth)\n",
    "            print(f\"Base parts for height_width: {base_parts}\")\n",
    "            additional_parts1, best_orient = calculate_max_parts(shelf_depth % part_width, shelf_width, shelf_height, part_depth, part_width, part_height)\n",
    "            additional_parts2, best_orient = calculate_max_parts(shelf_depth, shelf_width % part_height, shelf_height, part_depth, part_width, part_height)\n",
    "            additional_parts3, best_orient = calculate_max_parts(shelf_depth, shelf_width, shelf_height % part_depth, part_depth, part_width, part_height)\n",
    "            print(f\"Additional parts for height_width: {additional_parts1}, {additional_parts2}, {additional_parts3}\")\n",
    "            return base_parts + max(additional_parts1, additional_parts2, additional_parts3)\n",
    "\n",
    "    orientations = ['depth', 'height', 'width', 'depth_height', 'depth_width', 'height_width']\n",
    "    \n",
    "    max_parts = 0\n",
    "    best_orientation = None\n",
    "    \n",
    "    for orientation in orientations:\n",
    "        parts = calculate_parts_for_orientation(orientation)\n",
    "        print(f\"Total parts for {orientation}: {parts}\")\n",
    "        if parts > max_parts:\n",
    "            max_parts = parts\n",
    "            best_orientation = orientation\n",
    "    \n",
    "    print(f\"Final result: Max parts = {max_parts}, Best orientation = {best_orientation}\")\n",
    "    return max_parts, best_orientation\n",
    "\n",
    "# Example usage\n",
    "shelf_depth = 12\n",
    "shelf_width = 48\n",
    "shelf_height = 12\n",
    "part_depth = 8\n",
    "part_width = 8\n",
    "part_height = 2\n",
    "\n",
    "max_parts, best_orientation = calculate_max_parts(shelf_depth, shelf_width, shelf_height, part_depth, part_width, part_height)\n",
    "\n",
    "print(f\"\\nMaximum number of parts: {max_parts}\")\n",
    "print(f\"Best orientation: {best_orientation}\")"
   ]
  },
  {
   "cell_type": "code",
   "execution_count": null,
   "metadata": {},
   "outputs": [],
   "source": [
    "def calculate_max_parts(shelf_depth, shelf_width, shelf_height, part_depth, part_width, part_height):\n",
    "    def calculate_base_parts(orientation):\n",
    "        if orientation == 'depth':\n",
    "            return ((shelf_depth // part_depth) * (shelf_width // part_width)) * (shelf_height // part_height)\n",
    "        elif orientation == 'height':\n",
    "            return ((shelf_depth // part_height) * (shelf_width // part_width)) * (shelf_height // part_depth)\n",
    "        elif orientation == 'width':\n",
    "            return ((shelf_depth // part_width) * (shelf_width // part_depth)) * (shelf_height // part_height)\n",
    "        elif orientation == 'depth_height':\n",
    "            return ((shelf_depth // part_depth) * (shelf_width // part_height)) * (shelf_height // part_width)\n",
    "        elif orientation == 'depth_width':\n",
    "            return ((shelf_depth // part_depth) * (shelf_width // part_width)) * (shelf_height // part_height)\n",
    "        elif orientation == 'height_width':\n",
    "            return ((shelf_depth // part_height) * (shelf_width // part_width)) * (shelf_height // part_depth)\n",
    "        elif orientation == 'width_depth':\n",
    "            return ((shelf_depth // part_width) * (shelf_width // part_depth)) * (shelf_height // part_height)\n",
    "        elif orientation == 'width_height':\n",
    "            return ((shelf_depth // part_width) * (shelf_width // part_height)) * (shelf_height // part_depth)\n",
    "    \n",
    "        \n",
    "    orientations = ['depth', 'height', 'width', 'depth_height', 'depth_width', 'height_width']\n",
    "    \n",
    "    max_parts = 0\n",
    "    best_orientation = None\n",
    "    \n",
    "    for orientation in orientations:\n",
    "        base_parts = calculate_base_parts(orientation)\n",
    "        \n",
    "        total_parts = base_parts\n",
    "        \n",
    "        if total_parts > max_parts:\n",
    "            max_parts = total_parts\n",
    "            best_orientation = orientation\n",
    "    \n",
    "    return max_parts, best_orientation\n",
    "    \n",
    "\n",
    "# Example usage\n",
    "shelf_depth = 12\n",
    "shelf_width = 48\n",
    "shelf_height = 12\n",
    "part_depth = 8\n",
    "part_width = 8\n",
    "part_height = 2\n",
    "\n",
    "max_parts = calculate_max_parts(shelf_depth, shelf_width, shelf_height, part_depth, part_width, part_height)\n",
    "\n",
    "print(f\"\\nMaximum number of parts: {max_parts[0]}\")\n",
    "print(f\"\\nBest Orientation: {max_parts[1]}\")"
   ]
  },
  {
   "cell_type": "code",
   "execution_count": null,
   "metadata": {},
   "outputs": [],
   "source": [
    "\n",
    "## ^ Tire Storage Calculation\n",
    "# TODO: CLARIFY the Calculation of Tire Carousel Model Selection Based on Percentage \n",
    "## * ASSUMPTION:  If 50% of Tires Have 33-inch or More Diameter, Assign Large-Storage (72-width carousel)\n",
    "## * ELSE,  For 28-inch or less, and,  between 28-33 inches, assign standard carrousel (48-width carousel) \n",
    "# & df_Main.loc[df_Main['StorageType'] == 'Tire Specialty Storage', 'SubStorage'] \n",
    "carousel_model = '72-inch Wide' if df_Main[df_Main['StorageType'] == 'Tire Specialty Storage'][df_Main['SubStorage'] == '>33-inches Wide'].shape[0] / df_Main[df_Main['StorageType'] == 'Tire Specialty Storage'].shape[0] >= TIRE_PERCENT1 else '48-inch Wide'\n",
    "carousel_width = '72' if df_Main[df_Main['StorageType'] == 'Tire Specialty Storage'][df_Main['SubStorage'] == '>33-inches Wide'].shape[0] / df_Main[df_Main['StorageType'] == 'Tire Specialty Storage'].shape[0] >= TIRE_PERCENT1 else '48'\n",
    "for tirePN in df_Main.loc[df_Main['StorageType'] == 'Tire Specialty Storage', \"Part#\"]:\n",
    "    df_Main.loc[(df_Main['Part#'] == tirePN), \"Num. Storage Required\"] = getNumOfBin(df_Main.loc[(df_Main['Part#'] == tirePN), \"Depth\"].values[0], df_Main.loc[(df_Main['Part#'] == tirePN), \"Width\"].values[0], df_Main.loc[(df_Main['Part#'] == tirePN), \"Height\"].values[0], f\"{df_Main.loc[(df_Main['Part#'] == tirePN), \"Height\"].values[0]}_{df_Main.loc[(df_Main['Part#'] == tirePN), \"Depth\"].values[0]}_{carousel_width}\", df_Main.loc[(df_Main['Part#'] == tirePN), \"OH Inventory\"].values[0])"
   ]
  },
  {
   "cell_type": "code",
   "execution_count": null,
   "metadata": {},
   "outputs": [],
   "source": [
    "utils.print_df(df_Main)"
   ]
  },
  {
   "cell_type": "code",
   "execution_count": null,
   "metadata": {},
   "outputs": [],
   "source": [
    "df_Main.to_excel('FinalDataset.xlsx', index=False) "
   ]
  },
  {
   "cell_type": "code",
   "execution_count": null,
   "metadata": {},
   "outputs": [],
   "source": [
    "df_Main[\"StorageType\"].value_counts()"
   ]
  },
  {
   "cell_type": "code",
   "execution_count": null,
   "metadata": {},
   "outputs": [],
   "source": [
    "df_Main[(df_Main[\"0Dimensions\"] == True) & (df_Main[\"StorageType\"] == \"\")]"
   ]
  }
 ],
 "metadata": {
  "kernelspec": {
   "display_name": "Python 3",
   "language": "python",
   "name": "python3"
  },
  "language_info": {
   "codemirror_mode": {
    "name": "ipython",
    "version": 3
   },
   "file_extension": ".py",
   "mimetype": "text/x-python",
   "name": "python",
   "nbconvert_exporter": "python",
   "pygments_lexer": "ipython3",
   "version": "3.12.8"
  }
 },
 "nbformat": 4,
 "nbformat_minor": 2
}
