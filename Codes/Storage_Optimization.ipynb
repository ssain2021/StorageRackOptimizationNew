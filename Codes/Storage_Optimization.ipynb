{
 "cells": [
  {
   "cell_type": "code",
   "execution_count": 47,
   "metadata": {},
   "outputs": [],
   "source": [
    "################################  Storage_Optimization.ipynb  ####################################\n",
    "# Author: Sukhendu Sain\n",
    "# Description: Main file of codebase. Houses main code\n",
    "# Data: 23-Nov-2024\n",
    "#################################################################################"
   ]
  },
  {
   "cell_type": "code",
   "execution_count": 48,
   "metadata": {},
   "outputs": [],
   "source": [
    "# Import Necessary Libraries, Utils, and Config Files\n",
    "import utils\n",
    "from config import *\n",
    "import pandas as pd\n",
    "import os\n",
    "import matplotlib.pyplot as plt\n",
    "# import importlib\n",
    "# importlib.reload(utils)"
   ]
  },
  {
   "cell_type": "markdown",
   "metadata": {},
   "source": [
    "### Config - Parameters/Other Variables/File Paths"
   ]
  },
  {
   "cell_type": "code",
   "execution_count": 49,
   "metadata": {},
   "outputs": [],
   "source": [
    "## Files Path ##\n",
    "ROOT_FILE_PATH = '\\\\'.join(os.getcwd().split('\\\\')[:-1])\n",
    "\n",
    "AKINS_FOMO_FILE_PATH = os.path.join(ROOT_FILE_PATH, r\"Data&Files\\AKINS FoMoCo_Piece_Sales_112222_YTD.xlsx\")\n",
    "GPARTS_FILE_PATH = os.path.join(ROOT_FILE_PATH, r\"Data&Files\\GPARTS Part Measures.xlsx\")\n",
    "WHOLESALE_FILE_PATH = os.path.join(ROOT_FILE_PATH, r\"Data&Files\\Wholesale JAN_Oct_Parts_Ranking_Counter_Invoices_All_Brands.xlsx\")\n",
    "SERVICE_FILE_PATH = os.path.join(ROOT_FILE_PATH, r\"Data&Files\\Service JAN_Oct_Parts_Ranking_ROs_All_Brands.xlsx\")\n",
    "COUNTERPAD_FILE_PATH = os.path.join(ROOT_FILE_PATH, r\"Data&Files\\Counter_Pad_11142024.xlsx\")\n",
    "\n",
    "\n",
    "\n",
    "## Variables\n",
    "print_df_after_import = False\n",
    "print_df_data_analyse = False"
   ]
  },
  {
   "cell_type": "markdown",
   "metadata": {},
   "source": [
    "# Data Import and Clean"
   ]
  },
  {
   "cell_type": "code",
   "execution_count": 50,
   "metadata": {},
   "outputs": [],
   "source": [
    "#### Read FILE:: (AKINS FoMoCo_Piece_Sales_112222_YTD.xlsx) into Dataframe\n",
    "df_Akins = utils.read_excel(AKINS_FOMO_FILE_PATH)\n",
    "if print_df_after_import: utils.print_df(df_Akins) # Print the Dataframe"
   ]
  },
  {
   "cell_type": "code",
   "execution_count": null,
   "metadata": {},
   "outputs": [],
   "source": [
    "#### Read FILE:: (GPARTS Part Measures.xlsx) into Dataframe\n",
    "df_Gparts = utils.read_excel(GPARTS_FILE_PATH)\n",
    "if print_df_after_import: utils.print_df(df_Gparts) # Print the Dataframe"
   ]
  },
  {
   "cell_type": "code",
   "execution_count": 41,
   "metadata": {},
   "outputs": [],
   "source": [
    "#### Read FILE:: (Wholesale JAN_Oct_Parts_Ranking_Counter_Invoices_All_Brands.xlsx) into Dataframe\n",
    "df_Wholesale = utils.read_excel(WHOLESALE_FILE_PATH)\n",
    "\n",
    "# Clean the Wholesale Dataframe\n",
    "df_Wholesale = df_Wholesale.drop(columns=[col for col in df_Wholesale.columns if 'Unnamed' in col], inplace=False)\n",
    "df_Wholesale_Ford = df_Wholesale[df_Wholesale['Vendor'] == 'FOR'] # Put only 'Ford' Brand Data into another DF\n",
    "\n",
    "if print_df_after_import: utils.print_df(df_Wholesale_Ford) # Print the Dataframe"
   ]
  },
  {
   "cell_type": "code",
   "execution_count": 42,
   "metadata": {},
   "outputs": [],
   "source": [
    "#### Read FILE:: (Service JAN_Oct_Parts_Ranking_ROs_All_Brands.xlsx) into Dataframe\n",
    "df_Service = utils.read_excel(SERVICE_FILE_PATH)\n",
    "\n",
    "# Clean the Service Dataframe\n",
    "df_Service = df_Service.drop(columns=[col for col in df_Service.columns if 'Unnamed' in col], inplace=False)\n",
    "df_Service_Ford = df_Service[df_Service['Vendor'] == 'FOR'] # Put only 'Ford' Brand Data into another DF\n",
    "\n",
    "if print_df_after_import: utils.print_df(df_Service_Ford, 100) # Print the Dataframe"
   ]
  },
  {
   "cell_type": "code",
   "execution_count": 70,
   "metadata": {},
   "outputs": [
    {
     "data": {
      "text/html": [
       "<div>\n",
       "<style scoped>\n",
       "    .dataframe tbody tr th:only-of-type {\n",
       "        vertical-align: middle;\n",
       "    }\n",
       "\n",
       "    .dataframe tbody tr th {\n",
       "        vertical-align: top;\n",
       "    }\n",
       "\n",
       "    .dataframe thead th {\n",
       "        text-align: right;\n",
       "    }\n",
       "</style>\n",
       "<table border=\"1\" class=\"dataframe\">\n",
       "  <thead>\n",
       "    <tr style=\"text-align: right;\">\n",
       "      <th></th>\n",
       "      <th></th>\n",
       "      <th>Mfg</th>\n",
       "      <th>Src</th>\n",
       "      <th>Cost</th>\n",
       "      <th>List Bin</th>\n",
       "      <th>Part Number</th>\n",
       "      <th>Description</th>\n",
       "      <th>OH</th>\n",
       "      <th>OH $</th>\n",
       "      <th>On Order</th>\n",
       "    </tr>\n",
       "  </thead>\n",
       "  <tbody>\n",
       "    <tr>\n",
       "      <th rowspan=\"3\" valign=\"top\">CHR</th>\n",
       "      <th>304</th>\n",
       "      <td>2.05</td>\n",
       "      <td>3.5</td>\n",
       "      <td>BC7A</td>\n",
       "      <td>000ATM10</td>\n",
       "      <td>FUSE</td>\n",
       "      <td>MINI</td>\n",
       "      <td>0.0</td>\n",
       "      <td>0</td>\n",
       "      <td>0.0</td>\n",
       "    </tr>\n",
       "    <tr>\n",
       "      <th>319</th>\n",
       "      <td>2.05</td>\n",
       "      <td>3.5</td>\n",
       "      <td>85G</td>\n",
       "      <td>00ATM25</td>\n",
       "      <td>MINI</td>\n",
       "      <td>FUSE</td>\n",
       "      <td>4.0</td>\n",
       "      <td>0</td>\n",
       "      <td>8.2</td>\n",
       "    </tr>\n",
       "    <tr>\n",
       "      <th>319</th>\n",
       "      <td>2.05</td>\n",
       "      <td>3.5</td>\n",
       "      <td>0154596</td>\n",
       "      <td>TAPPING</td>\n",
       "      <td>HEX</td>\n",
       "      <td>FL...</td>\n",
       "      <td>0.0</td>\n",
       "      <td>0</td>\n",
       "      <td>0.0</td>\n",
       "    </tr>\n",
       "  </tbody>\n",
       "</table>\n",
       "</div>"
      ],
      "text/plain": [
       "          Mfg  Src     Cost  List Bin Part Number Description   OH  OH $  \\\n",
       "CHR 304  2.05  3.5     BC7A  000ATM10        FUSE        MINI  0.0     0   \n",
       "    319  2.05  3.5      85G   00ATM25        MINI        FUSE  4.0     0   \n",
       "    319  2.05  3.5  0154596   TAPPING         HEX       FL...  0.0     0   \n",
       "\n",
       "         On Order  \n",
       "CHR 304       0.0  \n",
       "    319       8.2  \n",
       "    319       0.0  "
      ]
     },
     "execution_count": 70,
     "metadata": {},
     "output_type": "execute_result"
    }
   ],
   "source": [
    "#### Read FILE:: (Counter Pad) into Dataframe"
   ]
  },
  {
   "cell_type": "code",
   "execution_count": null,
   "metadata": {},
   "outputs": [],
   "source": []
  },
  {
   "cell_type": "markdown",
   "metadata": {},
   "source": [
    "# Data Analysis\n"
   ]
  },
  {
   "cell_type": "code",
   "execution_count": null,
   "metadata": {},
   "outputs": [],
   "source": [
    "## "
   ]
  },
  {
   "cell_type": "code",
   "execution_count": null,
   "metadata": {},
   "outputs": [],
   "source": [
    "## Analyze 'Active' Column of GParts\n",
    "total_rows = df_Gparts.shape[0]\n",
    "active = df_Gparts[df_Gparts[\"Is Active?\"] == 'Yes'].shape[0]\n",
    "active_percent = ( df_Gparts[df_Gparts[\"Is Active?\"] == 'Yes'].shape[0]/total_rows ) * 100\n",
    "\n",
    "# Print the Counts/Percentage\n",
    "print(f\"Active Parts: {active}; Active Percentage: {active_percent}%\")\n",
    "print(f\"Not Active Parts: {total_rows - active}; Not Active Percentage: {100 - active_percent}%\")\n",
    "\n",
    "# Visualize\n",
    "labels = ['Active', 'Not Active'] # Create labels and sizes for the pie chart\n",
    "sizes = [active_percent, 100 - active_percent]\n",
    "\n",
    "plt.figure(figsize=(10, 8)) # Create the pie chart\n",
    "plt.pie(sizes, labels=labels, autopct='%1.1f%%', startangle=90)\n",
    "\n",
    "plt.show() # Show the chart"
   ]
  },
  {
   "cell_type": "code",
   "execution_count": null,
   "metadata": {},
   "outputs": [],
   "source": [
    "## Find Rows with 0 in either Dimensions\n",
    "# Depth (Column Here) = Length (In Docs)\n",
    "\n",
    "# Count no. of Rows with 0 in either Dimensions; no_all share count with other 3\n",
    "no_depth = df_Gparts[df_Gparts[\"Prod Att - Length\"] == 0].shape[0]\n",
    "no_width = df_Gparts[df_Gparts[\"Prod Att- Width\"] == 0].shape[0]\n",
    "no_height = df_Gparts[df_Gparts[\"Prod Att - Height\"] == 0].shape[0]\n",
    "no_all = df_Gparts[(df_Gparts[\"Prod Att - Height\"] == 0) & (df_Gparts[\"Prod Att- Width\"] == 0) & (df_Gparts[\"Prod Att - Length\"] == 0)].shape[0]\n",
    "\n",
    "# Calculate percentages\n",
    "total_rows = df_Gparts.shape[0]\n",
    "percent_no_depth = (no_depth / total_rows) * 100\n",
    "percent_no_width = (no_width / total_rows) * 100\n",
    "percent_no_height = (no_height / total_rows) * 100\n",
    "percent_no_all = (no_all / total_rows) * 100\n",
    "\n",
    "# Print the Counts/Percentages\n",
    "print(f\"No Length/Depth: {no_depth}; No Width: {no_width}; No Height: {no_height}; No All: {no_all};\") \n",
    "print(f\"No Length/Depth: {percent_no_depth}; No Width: {percent_no_depth}; No Height: {percent_no_height}; No All: {percent_no_all};\") \n",
    "\n",
    "# Here we find out that a row, if containing 0 in 1 dimension, has 0 in all, or\n",
    "# A row has either all or none dimensions\n",
    "# 16% of Rows has 0 Dimensions"
   ]
  },
  {
   "cell_type": "code",
   "execution_count": null,
   "metadata": {},
   "outputs": [],
   "source": [
    "## Visualize above No Dimensions Data\n",
    "\n",
    "# Create the bar graph\n",
    "plt.figure(figsize=(10, 6)) \n",
    "bars = ['Total Rows', 'No Length/Depth', 'No Width', 'No Height']\n",
    "heights = [100, percent_no_depth, percent_no_width, percent_no_height]\n",
    "\n",
    "plt.bar(bars, heights)\n",
    "plt.title(f'Distribution of Rows with No Dimensions')\n",
    "plt.xlabel('Dimension')\n",
    "plt.ylabel('Percentage of Rows')\n",
    "plt.xticks(rotation=45)\n",
    "\n",
    "# Add labels to each bar\n",
    "for i, v in enumerate(heights):\n",
    "    plt.text(i, v, str(round(v, 2)) + '%', ha='center', va='bottom')\n",
    "\n",
    "# Show the legend and display the chart\n",
    "plt.tight_layout()\n",
    "plt.show()"
   ]
  },
  {
   "cell_type": "code",
   "execution_count": null,
   "metadata": {},
   "outputs": [],
   "source": [
    "## Find Number of Matching Part Numbers in each of the Dataframe\n",
    "\n",
    "# The Dataframes to match\n",
    "all_dfs = [df_Wholesale_Ford, df_Gparts]\n",
    "\n",
    "# Part# Column Name of each DF\n",
    "part_number_columns = ['Part Number', 'Svc Part Number']\n",
    "\n",
    "# Find common part numbers\n",
    "common_part_numbers = set(all_dfs[0][part_number_columns[0]])\n",
    "for i in range(1, len(all_dfs)):\n",
    "    common_part_numbers &= set(all_dfs[i][part_number_columns[i]])\n",
    "\n",
    "print(f\"Part numbers common to all DataFrames: {len(common_part_numbers)}\")\n",
    "if print_df_data_analyse: utils.print_df(df_Wholesale_Ford[df_Wholesale_Ford[\"Part Number\"].isin(common_part_numbers)], 100)"
   ]
  },
  {
   "cell_type": "code",
   "execution_count": null,
   "metadata": {},
   "outputs": [],
   "source": []
  },
  {
   "cell_type": "markdown",
   "metadata": {},
   "source": [
    "# Data Processing & Calculation"
   ]
  },
  {
   "cell_type": "code",
   "execution_count": null,
   "metadata": {},
   "outputs": [],
   "source": [
    "## Make a Big Final Dataframe\n",
    "# It will have the Columns - 'Part Number', 'Vendor', 'Sold (Pcs.)', 'Length/Depth', 'Width', 'Height'"
   ]
  },
  {
   "cell_type": "code",
   "execution_count": null,
   "metadata": {},
   "outputs": [],
   "source": [
    "data = []\n",
    "sum = 0\n",
    "totalSoldPCs = int(df_Wholesale_Ford[\"Total Sold\"].sum())\n",
    "print(sum, totalSoldPCs)\n",
    "for i in range(df_Wholesale_Ford.shape[0]):\n",
    "    zone = \"\"\n",
    "    if sum/totalSoldPCs <= 0.2:\n",
    "        zone = \"Red Hot Zone\"\n",
    "    if sum/totalSoldPCs > 0.2 and sum/totalSoldPCs <= 0.4:\n",
    "        zone = \"Orange Zone\"\n",
    "    if sum/totalSoldPCs > 0.4 and sum/totalSoldPCs <= 0.6:\n",
    "        zone = \"Yellow Zone\"\n",
    "    if sum/totalSoldPCs > 0.6 and sum/totalSoldPCs <= 0.8:\n",
    "        zone = \"Green Zone\"\n",
    "    if sum/totalSoldPCs > 0.8:\n",
    "        zone = \"Blue Zone\"\n",
    "    data.append([df_Wholesale_Ford[\"Part Number\"].iloc[i], zone, sum])\n",
    "    sum = sum + df_Wholesale_Ford[\"Total Sold\"].iloc[i]\n",
    "df_zones = pd.DataFrame(data)\n",
    "utils.print_df(df_zones,None)\n",
    "\n",
    "with open(\"htt.txt\", \"w\") as f:\n",
    "    f.write(df_zones.to_string())"
   ]
  },
  {
   "cell_type": "code",
   "execution_count": null,
   "metadata": {},
   "outputs": [],
   "source": []
  }
 ],
 "metadata": {
  "kernelspec": {
   "display_name": "Python 3",
   "language": "python",
   "name": "python3"
  },
  "language_info": {
   "codemirror_mode": {
    "name": "ipython",
    "version": 3
   },
   "file_extension": ".py",
   "mimetype": "text/x-python",
   "name": "python",
   "nbconvert_exporter": "python",
   "pygments_lexer": "ipython3",
   "version": "3.12.7"
  }
 },
 "nbformat": 4,
 "nbformat_minor": 2
}
