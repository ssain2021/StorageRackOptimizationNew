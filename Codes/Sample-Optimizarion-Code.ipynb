<<<<<<< HEAD
version https://git-lfs.github.com/spec/v1
oid sha256:26dfb5f96e4be58b693003c6c283bb2401f0b4582a69e2fe09df19334e7b9944
size 19764
=======
{
 "cells": [
  {
   "cell_type": "code",
   "execution_count": null,
   "metadata": {},
   "outputs": [],
   "source": [
    "################################  Storage_Optimization.ipynb  ####################################\n",
    "# Author: Phind\n",
    "# Description: TEST Code\n",
    "# Data: 24-Nov-2024\n",
    "#################################################################################\n"
   ]
  },
  {
   "cell_type": "markdown",
   "metadata": {},
   "source": [
    "This implementation provides a basic structure for assigning storage based on the detailed requirements you provided. It handles high-density drawers, clip shelving, bulk storage, specialty items like batteries and tires, hanging storage, and bumper cover storage. The sales frequency is used to determine which zone each part belongs to.\n",
    "\n",
    "Key points to consider:\n",
    "\n",
    "This implementation assumes rectangular parts with fixed dimensions.\n",
    "Specialty items like batteries and tires have specific rules applied.\n",
    "The function returns a string indicating the storage type for each part.\n",
    "The sample data is simplified for demonstration purposes.\n",
    "Best practices followed:\n",
    "\n",
    "Modular design with separate functions for different storage types.\n",
    "Use of dictionaries to represent storage options, making it easy to add or modify storage types.\n",
    "Clear variable names and comments for readability.\n",
    "Handling of edge cases like specialty items and overflow scenarios.\n",
    "To further improve this implementation, you could:\n",
    "\n",
    "Add more detailed logic for tire carousel selection based on diameter ranges.\n",
    "Implement a more sophisticated algorithm for determining the appropriate shelf depth in clip shelving.\n",
    "Add error handling for invalid input data.\n",
    "Create a class-based structure for better organization as the system grows.\n",
    "Remember to adjust the implementation based on any specific data structures or constraints not mentioned in these requirements."
   ]
  },
  {
   "cell_type": "code",
   "execution_count": null,
   "metadata": {},
   "outputs": [],
   "source": [
    "import pandas as pd\n",
    "import numpy as np\n"
   ]
  },
  {
   "cell_type": "markdown",
   "metadata": {},
   "source": [
    "# Data Import and Clean"
   ]
  },
  {
   "cell_type": "code",
   "execution_count": null,
   "metadata": {},
   "outputs": [],
   "source": [
    "#### Read FILE:: (AKINS FoMoCo_Piece_Sales_112222_YTD.xlsx) into Dataframe\n",
    "df_Akins = utils.read_excel(AKINS_FOMO_FILE_PATH)\n",
    "df_Akins\n",
    "#utils.print_df(df_Wholesale_Ford) # Print the Dataframe"
   ]
  },
  {
   "cell_type": "code",
   "execution_count": null,
   "metadata": {},
   "outputs": [],
   "source": [
    "#### Read FILE:: (GPARTS Part Measures.xlsx) into Dataframe\n",
    "df_Gparts = utils.read_excel(GPARTS_FILE_PATH)\n",
    "utils.print_df(df_Gparts) # Print the Dataframe\n",
    "\n",
    "print(df_Gparts[df_Gparts[\"Prod Att - Length\"] == 0].shape[0]) # Print the Rows with 0 Dimensions"
   ]
  },
  {
   "cell_type": "code",
   "execution_count": null,
   "metadata": {},
   "outputs": [],
   "source": [
    "#### Read FILE:: (Wholesale JAN_Oct_Parts_Ranking_Counter_Invoices_All_Brands.xlsx) into Dataframe\n",
    "df_Wholesale = utils.read_excel(WHOLESALE_FILE_PATH)\n",
    "\n",
    "# Clean the Wholesale Dataframe\n",
    "df_Wholesale = df_Wholesale.drop(columns=[col for col in df_Wholesale.columns if 'Unnamed' in col], inplace=False)\n",
    "df_Wholesale_Ford = df_Wholesale[df_Wholesale['Vendor'] == 'FOR'] # Put only 'Ford' Brand Data into another DF\n",
    "\n",
    "utils.print_df(df_Wholesale_Ford) # Print the Dataframe"
   ]
  },
  {
   "cell_type": "code",
   "execution_count": 6,
   "metadata": {},
   "outputs": [
    {
     "ename": "NameError",
     "evalue": "name 'utils' is not defined",
     "output_type": "error",
     "traceback": [
      "\u001b[1;31m---------------------------------------------------------------------------\u001b[0m",
      "\u001b[1;31mNameError\u001b[0m                                 Traceback (most recent call last)",
      "Cell \u001b[1;32mIn[6], line 2\u001b[0m\n\u001b[0;32m      1\u001b[0m \u001b[38;5;66;03m#### Read FILE:: (Service JAN_Oct_Parts_Ranking_ROs_All_Brands.xlsx) into Dataframe\u001b[39;00m\n\u001b[1;32m----> 2\u001b[0m df_Service \u001b[38;5;241m=\u001b[39m \u001b[43mutils\u001b[49m\u001b[38;5;241m.\u001b[39mread_excel(SERVICE_FILE_PATH)\n\u001b[0;32m      4\u001b[0m \u001b[38;5;66;03m# Clean the Service Dataframe\u001b[39;00m\n\u001b[0;32m      5\u001b[0m df_Service \u001b[38;5;241m=\u001b[39m df_Service\u001b[38;5;241m.\u001b[39mdrop(columns\u001b[38;5;241m=\u001b[39m[col \u001b[38;5;28;01mfor\u001b[39;00m col \u001b[38;5;129;01min\u001b[39;00m df_Service\u001b[38;5;241m.\u001b[39mcolumns \u001b[38;5;28;01mif\u001b[39;00m \u001b[38;5;124m'\u001b[39m\u001b[38;5;124mUnnamed\u001b[39m\u001b[38;5;124m'\u001b[39m \u001b[38;5;129;01min\u001b[39;00m col], inplace\u001b[38;5;241m=\u001b[39m\u001b[38;5;28;01mFalse\u001b[39;00m)\n",
      "\u001b[1;31mNameError\u001b[0m: name 'utils' is not defined"
     ]
    }
   ],
   "source": [
    "#### Read FILE:: (Service JAN_Oct_Parts_Ranking_ROs_All_Brands.xlsx) into Dataframe\n",
    "df_Service = utils.read_excel(SERVICE_FILE_PATH)\n",
    "\n",
    "# Clean the Service Dataframe\n",
    "df_Service = df_Service.drop(columns=[col for col in df_Service.columns if 'Unnamed' in col], inplace=False)\n",
    "df_Service_Ford = df_Service[df_Service['Vendor'] == 'FOR']  # Put only 'Ford' Brand Data into another DF\n",
    "\n",
    "utils.print_df(df_Service_Ford, 100) # Print the Dataframe"
   ]
  },
  {
   "cell_type": "code",
   "execution_count": 4,
   "metadata": {},
   "outputs": [
    {
     "ename": "NameError",
     "evalue": "name 'df_Service_Ford' is not defined",
     "output_type": "error",
     "traceback": [
      "\u001b[1;31m---------------------------------------------------------------------------\u001b[0m",
      "\u001b[1;31mNameError\u001b[0m                                 Traceback (most recent call last)",
      "Cell \u001b[1;32mIn[4], line 1\u001b[0m\n\u001b[1;32m----> 1\u001b[0m \u001b[38;5;28mprint\u001b[39m(\u001b[43mdf_Service_Ford\u001b[49m\u001b[38;5;241m.\u001b[39mcolumns)\n",
      "\u001b[1;31mNameError\u001b[0m: name 'df_Service_Ford' is not defined"
     ]
    }
   ],
   "source": [
    "print(df_Service_Ford.columns)\n"
   ]
  },
  {
   "cell_type": "code",
   "execution_count": 1,
   "metadata": {},
   "outputs": [],
   "source": [
    "high_density_drawers = {\n",
    "    '36\":4': {'width': 9, 'depth': 24},\n",
    "    '48\":4': {'width': 12, 'depth': 24},\n",
    "    '48\":6': {'width': 8, 'depth': 24}\n",
    "}\n",
    "\n",
    "clip_shelving = {\n",
    "    '12\":0': {'height': 15, 'depth': 12, 'width': 36},\n",
    "    '18\":0': {'height': 15, 'depth': 18, 'width': 48},\n",
    "    '24\":0': {'height': 15, 'depth': 24, 'width': 48}\n",
    "}\n",
    "\n",
    "bulk_storage = {\n",
    "    '24\":0': {'height': 12, 'depth': 24, 'width': 48},\n",
    "    '36\":0': {'height': 12, 'depth': 36, 'width': 72},\n",
    "    '42\":0': {'height': 12, 'depth': 42, 'width': 72},\n",
    "    '48\":0': {'height': 12, 'depth': 48, 'width': 96},\n",
    "    '72\":0': {'height': 12, 'depth': 72, 'width': 96}\n",
    "}\n"
   ]
  },
  {
   "cell_type": "code",
   "execution_count": null,
   "metadata": {},
   "outputs": [
    {
     "name": "stdout",
     "output_type": "stream",
     "text": [
      "<class 'dict'> <class 'dict'> <class 'dict'>\n",
      "{'height': 15, 'depth': 12, 'width': 36}\n"
     ]
    }
   ],
   "source": [
    "# print(type(high_density_drawers), type(clip_shelving), type(bulk_storage))\n",
    "# print(clip_shelving['12\":0'])"
   ]
  },
  {
   "cell_type": "markdown",
   "metadata": {},
   "source": [
    "##### Step 3: Implement the storage assignment function\n",
    "##### Now, let's create a function that assigns parts to storage based on their dimensions and sales frequency zone:"
   ]
  },
  {
   "cell_type": "code",
   "execution_count": null,
   "metadata": {},
   "outputs": [],
   "source": [
    "def assign_storage_old(part_dimensions, part_height, part_width, part_depth, sales_frequency):\n",
    "    zones = ['Red-Hot', 'Orange', 'Yellow', 'Green', 'Blue']\n",
    "    zone_index = int(sales_frequency * 4)  # Assuming 0-1 scale for sales frequency\n",
    "    \n",
    "    if part_height <= 6 and part_width <= 12 and part_depth <= 24:\n",
    "        return 'High-Density Drawer'\n",
    "    \n",
    "    if part_height <= 15:\n",
    "        for size, specs in clip_shelving.items():\n",
    "            if part_width <= specs['width'] and part_depth <= specs['depth']:\n",
    "                return f'Clip Shelving {size}'\n",
    "    \n",
    "    if part_height >= 12:\n",
    "        for size, specs in bulk_storage.items():\n",
    "            if part_width <= specs['width'] and part_depth <= specs['depth']:\n",
    "                return f'Bulk Storage {size}'\n",
    "    \n",
    "    # Specialty storage (Battery, Tire, Hanging)\n",
    "    if 'battery' in part_name.lower():\n",
    "        return 'Battery Storage'\n",
    "    elif 'tire' in part_name.lower():\n",
    "        tire_diameter = float(part_name.split(' ')[0])  # Assuming diameter is first number\n",
    "        if tire_diameter <= 28:\n",
    "            return 'Tire Carousel (28\" or less)'\n",
    "        elif 28 < tire_diameter <= 33:\n",
    "            return 'Tire Carousel (28-33\")'\n",
    "        else:\n",
    "            return 'Tire Carousel (>33\")'\n",
    "    elif part_width > 24 and part_height < 4:\n",
    "        return 'Hanging Storage'\n",
    "    \n",
    "    # Bumper Cover Storage\n",
    "    if 'bumper cover' in part_name.lower():\n",
    "        return 'Bumper Cover Storage'\n",
    "    \n",
    "    # Default assignment\n",
    "    return 'Other Storage'\n"
   ]
  },
  {
   "cell_type": "markdown",
   "metadata": {},
   "source": [
    "Step 4: Create sample data\n",
    "Let's create some sample parts with dimensions and sales frequency:"
   ]
  },
  {
   "cell_type": "code",
   "execution_count": 10,
   "metadata": {},
   "outputs": [],
   "source": [
    "sample_parts = [\n",
    "    {'name': 'Small Fuse', 'height': 2, 'width': 6, 'depth': 12, 'sales_frequency': 0.9},\n",
    "    {'name': 'Medium Battery', 'height': 10, 'width': 8, 'depth': 20, 'sales_frequency': 0.7},\n",
    "    {'name': 'Large Tire', 'height': 30, 'width': 26, 'depth': 18, 'sales_frequency': 0.3},\n",
    "    {'name': 'Bumper Cover', 'height': 40, 'width': 60, 'depth': 10, 'sales_frequency': 0.05}\n",
    "]\n"
   ]
  },
  {
   "cell_type": "code",
   "execution_count": 31,
   "metadata": {},
   "outputs": [],
   "source": [
    "def assign_storage_new(part_height, part_width, part_depth, sales_frequency):\n",
    "    zones = ['Red Hot', 'Orange', 'Yellow', 'Green', 'Blue']\n",
    "    zone_index = int(sales_frequency * 4)  # Assuming 0-1 scale for sales frequency\n",
    "    \n",
    "    # Calculate cubic volume\n",
    "    cubic_volume = part_height * part_width * part_depth\n",
    "    \n",
    "    # Function to calculate drawer compartment score\n",
    "    def drawer_compartment_score(width, depth):\n",
    "        print(width, depth)\n",
    "        return width * depth * 100  # Simplified scoring, adjust as needed\n",
    "    \n",
    "    # Function to find best drawer compartment\n",
    "    def find_best_drawer(compartment_sizes):\n",
    "        best_score = 0\n",
    "        best_compartment = None\n",
    "        print(compartment_sizes.items())\n",
    "        for dim in compartment_sizes.items():\n",
    "            width, depth = dim[1].values()\n",
    "            score = drawer_compartment_score(width, depth)\n",
    "            if score > best_score:\n",
    "                best_score = score\n",
    "                best_compartment = width\n",
    "        return best_compartment, best_score\n",
    "        \n",
    "    # High-Density Drawer Rules\n",
    "    if part_height <= 6 and part_width <= 12 and part_depth <= 24:\n",
    "        # Check eligibility for Red Hot Zone\n",
    "        if sales_frequency >= 0.8:  # Adjust threshold as needed\n",
    "            # Find best drawer compartment\n",
    "            best_width, _ = find_best_drawer(high_density_drawers)\n",
    "            \n",
    "            # Sort parts by cubic volume in descending order\n",
    "            sorted_parts = sorted(sample_parts, key=lambda x: x[\"height\"] * x[\"width\"] * x[\"depth\"], reverse=True)\n",
    "            \n",
    "            # Assign parts to drawers based on volume and turnover/ Sales\n",
    "            assigned_parts = []\n",
    "            remaining_parts = sorted_parts.copy()\n",
    "            for width in [9, 12, 8]:  # Order of drawer sizes\n",
    "                compartment_sizes = high_density_drawers[f'48\":{remaining_parts.count(width)+1}']\n",
    "                best_width, _ = find_best_drawer(compartment_sizes)\n",
    "                \n",
    "                # Assign parts with highest turnover first\n",
    "                assigned_part = next((part for part in remaining_parts if part['width'] == width), None)\n",
    "                if assigned_part:\n",
    "                    assigned_parts.append(assigned_part)\n",
    "                    remaining_parts.remove(assigned_part)\n",
    "            \n",
    "            # If some parts remain, assign them based on volume\n",
    "            for width in [9, 12, 8]:\n",
    "                remaining_width_parts = [p for p in remaining_parts if p['width'] == width]\n",
    "                remaining_width_parts.sort(key=lambda x: x['cubic_volume'], reverse=True)\n",
    "                assigned_parts.extend(remaining_width_parts[:compartment_sizes[f'{width}\"]{remaining_width_parts.count(width)+1}']])\n",
    "            \n",
    "            return 'High-Density Drawer', f\"Drawer {best_width}\"\n",
    "        else:\n",
    "            return 'Other Storage'\n",
    "    \n",
    "    # ... rest of the function remains unchanged ...\n"
   ]
  },
  {
   "cell_type": "markdown",
   "metadata": {},
   "source": [
    "Step 5: Assign storage to sample parts\n",
    "Now we'll assign storage to our sample parts:"
   ]
  },
  {
   "cell_type": "code",
   "execution_count": null,
   "metadata": {},
   "outputs": [
    {
     "name": "stdout",
     "output_type": "stream",
     "text": [
      "dict_items([('36\":4', {'width': 9, 'depth': 24}), ('48\":4', {'width': 12, 'depth': 24}), ('48\":6', {'width': 8, 'depth': 24})])\n",
      "9 24\n",
      "12 24\n",
      "8 24\n"
     ]
    },
    {
     "ename": "KeyError",
     "evalue": "'48\":1'",
     "output_type": "error",
     "traceback": [
      "\u001b[1;31m---------------------------------------------------------------------------\u001b[0m",
      "\u001b[1;31mKeyError\u001b[0m                                  Traceback (most recent call last)",
      "Cell \u001b[1;32mIn[32], line 2\u001b[0m\n\u001b[0;32m      1\u001b[0m \u001b[38;5;28;01mfor\u001b[39;00m part \u001b[38;5;129;01min\u001b[39;00m sample_parts:\n\u001b[1;32m----> 2\u001b[0m     storage_type \u001b[38;5;241m=\u001b[39m \u001b[43massign_storage_new\u001b[49m\u001b[43m(\u001b[49m\u001b[43mpart\u001b[49m\u001b[43m[\u001b[49m\u001b[38;5;124;43m'\u001b[39;49m\u001b[38;5;124;43mheight\u001b[39;49m\u001b[38;5;124;43m'\u001b[39;49m\u001b[43m]\u001b[49m\u001b[43m,\u001b[49m\u001b[43m \u001b[49m\u001b[43mpart\u001b[49m\u001b[43m[\u001b[49m\u001b[38;5;124;43m'\u001b[39;49m\u001b[38;5;124;43mwidth\u001b[39;49m\u001b[38;5;124;43m'\u001b[39;49m\u001b[43m]\u001b[49m\u001b[43m,\u001b[49m\u001b[43m \u001b[49m\u001b[43mpart\u001b[49m\u001b[43m[\u001b[49m\u001b[38;5;124;43m'\u001b[39;49m\u001b[38;5;124;43mdepth\u001b[39;49m\u001b[38;5;124;43m'\u001b[39;49m\u001b[43m]\u001b[49m\u001b[43m,\u001b[49m\u001b[43m \u001b[49m\u001b[43mpart\u001b[49m\u001b[43m[\u001b[49m\u001b[38;5;124;43m'\u001b[39;49m\u001b[38;5;124;43msales_frequency\u001b[39;49m\u001b[38;5;124;43m'\u001b[39;49m\u001b[43m]\u001b[49m\u001b[43m)\u001b[49m\n\u001b[0;32m      3\u001b[0m     \u001b[38;5;28mprint\u001b[39m(\u001b[38;5;124mf\u001b[39m\u001b[38;5;124m\"\u001b[39m\u001b[38;5;124mPart: \u001b[39m\u001b[38;5;132;01m{\u001b[39;00mpart[\u001b[38;5;124m'\u001b[39m\u001b[38;5;124mname\u001b[39m\u001b[38;5;124m'\u001b[39m]\u001b[38;5;132;01m}\u001b[39;00m\u001b[38;5;124m, Storage Type: \u001b[39m\u001b[38;5;132;01m{\u001b[39;00mstorage_type\u001b[38;5;132;01m}\u001b[39;00m\u001b[38;5;124m, Sales Frequency: \u001b[39m\u001b[38;5;132;01m{\u001b[39;00mpart[\u001b[38;5;124m'\u001b[39m\u001b[38;5;124msales_frequency\u001b[39m\u001b[38;5;124m'\u001b[39m]\u001b[38;5;132;01m:\u001b[39;00m\u001b[38;5;124m.2f\u001b[39m\u001b[38;5;132;01m}\u001b[39;00m\u001b[38;5;124m\"\u001b[39m)\n",
      "Cell \u001b[1;32mIn[31], line 40\u001b[0m, in \u001b[0;36massign_storage_new\u001b[1;34m(part_height, part_width, part_depth, sales_frequency)\u001b[0m\n\u001b[0;32m     38\u001b[0m remaining_parts \u001b[38;5;241m=\u001b[39m sorted_parts\u001b[38;5;241m.\u001b[39mcopy()\n\u001b[0;32m     39\u001b[0m \u001b[38;5;28;01mfor\u001b[39;00m width \u001b[38;5;129;01min\u001b[39;00m [\u001b[38;5;241m9\u001b[39m, \u001b[38;5;241m12\u001b[39m, \u001b[38;5;241m8\u001b[39m]:  \u001b[38;5;66;03m# Order of drawer sizes\u001b[39;00m\n\u001b[1;32m---> 40\u001b[0m     compartment_sizes \u001b[38;5;241m=\u001b[39m \u001b[43mhigh_density_drawers\u001b[49m\u001b[43m[\u001b[49m\u001b[38;5;124;43mf\u001b[39;49m\u001b[38;5;124;43m'\u001b[39;49m\u001b[38;5;124;43m48\u001b[39;49m\u001b[38;5;124;43m\"\u001b[39;49m\u001b[38;5;124;43m:\u001b[39;49m\u001b[38;5;132;43;01m{\u001b[39;49;00m\u001b[43mremaining_parts\u001b[49m\u001b[38;5;241;43m.\u001b[39;49m\u001b[43mcount\u001b[49m\u001b[43m(\u001b[49m\u001b[43mwidth\u001b[49m\u001b[43m)\u001b[49m\u001b[38;5;241;43m+\u001b[39;49m\u001b[38;5;241;43m1\u001b[39;49m\u001b[38;5;132;43;01m}\u001b[39;49;00m\u001b[38;5;124;43m'\u001b[39;49m\u001b[43m]\u001b[49m\n\u001b[0;32m     41\u001b[0m     best_width, _ \u001b[38;5;241m=\u001b[39m find_best_drawer(compartment_sizes)\n\u001b[0;32m     43\u001b[0m     \u001b[38;5;66;03m# Assign parts with highest turnover first\u001b[39;00m\n",
      "\u001b[1;31mKeyError\u001b[0m: '48\":1'"
     ]
    },
    {
     "ename": "",
     "evalue": "",
     "output_type": "error",
     "traceback": [
      "\u001b[1;31mThe Kernel crashed while executing code in the current cell or a previous cell. \n",
      "\u001b[1;31mPlease review the code in the cell(s) to identify a possible cause of the failure. \n",
      "\u001b[1;31mClick <a href='https://aka.ms/vscodeJupyterKernelCrash'>here</a> for more info. \n",
      "\u001b[1;31mView Jupyter <a href='command:jupyter.viewOutput'>log</a> for further details."
     ]
    }
   ],
   "source": [
    "for part in sample_parts:\n",
    "    storage_type = assign_storage_new(part['height'], part['width'], part['depth'], part['sales_frequency'])\n",
    "    print(f\"Part: {part['name']}, Storage Type: {storage_type}, Sales Frequency: {part['sales_frequency']:.2f}\")\n"
   ]
  },
  {
   "cell_type": "code",
   "execution_count": null,
   "metadata": {},
   "outputs": [],
   "source": []
  },
  {
   "cell_type": "markdown",
   "metadata": {},
   "source": [
    "### Data Analysis\n"
   ]
  },
  {
   "cell_type": "code",
   "execution_count": null,
   "metadata": {},
   "outputs": [],
   "source": [
    "## Find Rows with 0 in either Dimensions\n",
    "\n",
    "# Print the Rows with 0 Dimensions\n",
    "print(f\"Numer of Rows with 0 Dimensions: {df_Gparts[df_Gparts[\"Prod Att - Length\"] == 0].shape[0]}, {(df_Gparts[df_Gparts[\"Prod Att - Length\"] == 0].shape[0]/df_Gparts.shape[0])*100}%\") \n",
    "utils.print_df(df_Gparts[df_Gparts[\"Prod Att - Length\"] == 0], 10) # Print top 10 Rows with 0 Dimensions"
   ]
  },
  {
   "cell_type": "code",
   "execution_count": null,
   "metadata": {},
   "outputs": [],
   "source": []
  },
  {
   "cell_type": "markdown",
   "metadata": {},
   "source": [
    "# Data Processing & Calculation"
   ]
  },
  {
   "cell_type": "code",
   "execution_count": null,
   "metadata": {},
   "outputs": [],
   "source": [
    "## Sort the 'Wholesale..' DF by 'Sort Pcs' Columns in Descending order\n",
    "# Sold Pcs/Sold = Sales Frequency\n",
    "\n",
    "df_Wholesale_Ford[\"Total Sold\"] = df_Wholesale_Ford[\"Sold\"] +  df_Wholesale_Ford[\"Sold.1\"]\n",
    "df_Wholesale_Ford.sort_values(['Total Sold'], ascending=False, inplace=True)"
   ]
  },
  {
   "cell_type": "code",
   "execution_count": null,
   "metadata": {},
   "outputs": [],
   "source": [
    "df_Wholesale_Ford"
   ]
  },
  {
   "cell_type": "code",
   "execution_count": null,
   "metadata": {},
   "outputs": [],
   "source": [
    "data = []\n",
    "sum = 0\n",
    "totalSoldPCs = int(df_Wholesale_Ford[\"Total Sold\"].sum())\n",
    "print(sum, totalSoldPCs)\n",
    "for i in range(df_Wholesale_Ford.shape[0]):\n",
    "    zone = \"\"\n",
    "    if sum/totalSoldPCs <= 0.2:\n",
    "        zone = \"Red Hot Zone\"\n",
    "    if sum/totalSoldPCs > 0.2 and sum/totalSoldPCs <= 0.4:\n",
    "        zone = \"Orange Zone\"\n",
    "    if sum/totalSoldPCs > 0.4 and sum/totalSoldPCs <= 0.6:\n",
    "        zone = \"Yellow Zone\"\n",
    "    if sum/totalSoldPCs > 0.6 and sum/totalSoldPCs <= 0.8:\n",
    "        zone = \"Green Zone\"\n",
    "    if sum/totalSoldPCs > 0.8:\n",
    "        zone = \"Blue Zone\"\n",
    "    data.append([df_Wholesale_Ford[\"Part Number\"].iloc[i], zone, sum])\n",
    "    sum = sum + df_Wholesale_Ford[\"Total Sold\"].iloc[i]\n",
    "df_zones = pd.DataFrame(data)\n",
    "utils.print_df(df_zones,None)\n",
    "\n",
    "with open(\"htt.txt\", \"w\") as f:\n",
    "    f.write(df_zones.to_string())"
   ]
  },
  {
   "cell_type": "code",
   "execution_count": null,
   "metadata": {},
   "outputs": [],
   "source": []
  }
 ],
 "metadata": {
  "kernelspec": {
   "display_name": "Python 3",
   "language": "python",
   "name": "python3"
  },
  "language_info": {
   "codemirror_mode": {
    "name": "ipython",
    "version": 3
   },
   "file_extension": ".py",
   "mimetype": "text/x-python",
   "name": "python",
   "nbconvert_exporter": "python",
   "pygments_lexer": "ipython3",
   "version": "3.12.5"
  }
 },
 "nbformat": 4,
 "nbformat_minor": 2
}
>>>>>>> 4aea1d14ee79f5a628dc37b3d3551247cfa92b9c
